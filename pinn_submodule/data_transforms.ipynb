{
 "cells": [
  {
   "cell_type": "code",
   "execution_count": null,
   "id": "db73769f-9960-42e7-9a08-cad96ff4fbf5",
   "metadata": {},
   "outputs": [],
   "source": [
    "import numpy as np\n",
    "import scipy.ndimage"
   ]
  },
  {
   "cell_type": "code",
   "execution_count": null,
   "id": "ebc61852-63c8-4e13-8a94-3e5c84852175",
   "metadata": {},
   "outputs": [],
   "source": [
    "import numpy as np\n",
    "\n",
    "def pad_with_last_val(array, pad_width):\n",
    "    pad_before = pad_width[0]\n",
    "    pad_after = pad_width[1]\n",
    "\n",
    "    last_before = array[:, :1, :, :] # Take the first element along axis=1\n",
    "    last_after = array[:, -1:, :, :] # Take the last element along axis=1\n",
    "\n",
    "    array = np.concatenate([last_before]*pad_before + [array] + [last_after]*pad_after, axis=1)\n",
    "\n",
    "    last_before = array[:, :, :1, :] # Take the first element along axis=2\n",
    "    last_after = array[:, :, -1:, :] # Take the last element along axis=2\n",
    "\n",
    "    array = np.concatenate([last_before]*pad_before + [array] + [last_after]*pad_after, axis=2)\n",
    "    \n",
    "    return array\n",
    "\n",
    "# create a 4D numpy array\n",
    "array = np.random.rand(3, 10, 10, 10)\n",
    "\n",
    "# pad the array by repeating the last value 2 times at the start and 3 times at the end of the 2nd and 3rd axes\n",
    "padded_array = pad_with_last_val(array, (2, 3))\n",
    "\n",
    "print(padded_array.shape)  # Should print: (3, 15, 15, 10)\n"
   ]
  },
  {
   "cell_type": "code",
   "execution_count": null,
   "id": "6316d458-a2df-46b3-8df3-55ffd5a6e448",
   "metadata": {},
   "outputs": [],
   "source": [
    "# Specify the angle\n",
    "angle = 30\n",
    "\n",
    "# Specify the axes\n",
    "axes = (1, 2)  # Rotate in the xy plane\n",
    "\n",
    "# pad the array\n",
    "padding = 15\n",
    "padded_array = pad_with_last_val(flo, (padding, padding))\n",
    "\n",
    "# Rotate the array\n",
    "rotated_array = scipy.ndimage.rotate(padded_array, angle, axes=axes, reshape=False)[:, padding:-padding, padding:-padding, :]\n",
    "\n",
    "plt.imshow(rotated_array[1, :, :, 30])\n",
    "plt.colorbar()"
   ]
  },
  {
   "cell_type": "code",
   "execution_count": null,
   "id": "14d098e8-c01d-4e6a-85a6-70deacfa4110",
   "metadata": {},
   "outputs": [],
   "source": [
    "rotated_vector = np.zeros((rotated_array.shape[0], rotated_array.shape[1], rotated_array.shape[2], rotated_array.shape[3]))\n",
    "rotated_vector[[0]] = -np.sin(angle*np.pi/180)*rotated_array[[1]] + np.cos(angle*np.pi/180)*rotated_array[[0]]\n",
    "rotated_vector[[1]] = np.cos(angle*np.pi/180)*rotated_array[[1]] + np.sin(angle*np.pi/180)*rotated_array[[0]]\n",
    "rotated_vector[[2]] = rotated_array[[2]]"
   ]
  },
  {
   "cell_type": "code",
   "execution_count": null,
   "id": "7e61aa85-cb35-4684-a03a-6fb37691fc34",
   "metadata": {},
   "outputs": [],
   "source": [
    "# shift elements along the 3rd dimension by 2 positions\n",
    "shifting = 20\n",
    "shifted_array = np.roll(flo, shift=shifting, axis=1)\n",
    "plt.imshow(shifted_array[1, :, :, 30])\n",
    "plt.colorbar()"
   ]
  },
  {
   "cell_type": "code",
   "execution_count": null,
   "id": "dcd298c4-842d-4bfa-b9d6-c5863ca339c0",
   "metadata": {},
   "outputs": [],
   "source": [
    "# inversion of directions\n",
    "# Specify the angle\n",
    "angle = 180  # Rotate by 45 degrees\n",
    "# Specify the axes\n",
    "axes = (1, 2)  # Rotate in the xy plane\n",
    "# Rotate the array\n",
    "inverted_array = scipy.ndimage.rotate(flo, angle, axes=axes, reshape=False)\n",
    "inverted_array = inverted_array*np.reshape(np.array([-1, -1, 1]), (-1, 1, 1, 1))\n",
    "plt.imshow(inverted_array[1, :, :, 30])\n",
    "plt.colorbar()"
   ]
  },
  {
   "cell_type": "code",
   "execution_count": null,
   "id": "c3404157-6bd1-4565-9f61-599a838d1797",
   "metadata": {},
   "outputs": [],
   "source": [
    "def shift_flow(flow, shifting, axis=1):\n",
    "    return np.roll(flow, shift=shifting, axis=axis)"
   ]
  },
  {
   "cell_type": "code",
   "execution_count": null,
   "id": "5de2bb7a-0fea-49be-a120-e46bb16e4797",
   "metadata": {},
   "outputs": [],
   "source": [
    "def rotate_flow(flow, angle, axes=(1, 2), padding=15):\n",
    "    padded_array = pad_with_last_val(flow, (padding, padding))\n",
    "    rotated_array = scipy.ndimage.rotate(padded_array, angle, axes=axes, reshape=False)[:, padding:-padding, padding:-padding, :]\n",
    "    \n",
    "    # rotate velocity fields\n",
    "    rotated_vector = np.zeros((rotated_array.shape[0], rotated_array.shape[1], rotated_array.shape[2], rotated_array.shape[3]))\n",
    "    rotated_vector[[0]] = -np.sin(angle*np.pi/180)*rotated_array[[1]] + np.cos(angle*np.pi/180)*rotated_array[[0]]\n",
    "    rotated_vector[[1]] = np.cos(angle*np.pi/180)*rotated_array[[1]] + np.sin(angle*np.pi/180)*rotated_array[[0]]\n",
    "    rotated_vector[[2]] = rotated_array[[2]]\n",
    "    \n",
    "    return rotated_vector"
   ]
  },
  {
   "cell_type": "code",
   "execution_count": null,
   "id": "e016a10c-13e7-417c-96ba-27ac676a26dd",
   "metadata": {},
   "outputs": [],
   "source": [
    "def invert_flow(flow):\n",
    "    inverted_array = scipy.ndimage.rotate(flow, angle=180, axes=(1, 2), reshape=False)\n",
    "    inverted_array = inverted_array*np.reshape(np.array([-1, -1, 1]), (-1, 1, 1, 1))\n",
    "    return inverted_array"
   ]
  },
  {
   "cell_type": "code",
   "execution_count": null,
   "id": "75ad7806-1af2-497b-a831-917d1f476899",
   "metadata": {},
   "outputs": [],
   "source": [
    "inv_flow = invert_flow(flo)\n",
    "shi_flow = shift_flow(inv_flow, shifting=20)\n",
    "new_flow = rotate_flow(shi_flow, angle=-80)"
   ]
  },
  {
   "cell_type": "code",
   "execution_count": null,
   "id": "cf789669-bab6-4eba-a96c-58492dc4ec0e",
   "metadata": {},
   "outputs": [],
   "source": [
    "def transform_flow(flow):\n",
    "    if np.random.rand()>0.5:\n",
    "        flow = invert_flow(flow)\n",
    "    \n",
    "    shifting = int((np.random.rand()-0.5)*40)\n",
    "    flow = shift_flow(flow, shifting)\n",
    "    \n",
    "    angle = (np.random.rand()-0.5)*180\n",
    "    flow = rotate_flow(flow, angle)\n",
    "    \n",
    "    return flow"
   ]
  },
  {
   "cell_type": "code",
   "execution_count": null,
   "id": "48153075-d96f-4ca0-bf34-84f86294b113",
   "metadata": {},
   "outputs": [],
   "source": [
    "num_processors = cpu_count()\n",
    "with Pool(processes=num_processors) as p:\n",
    "    result_list = p.map(process_flow, noiseless_flows)\n",
    "\n",
    "# Remove None results if any\n",
    "result_list = [result for result in result_list if result is not None]\n",
    "new_flows = np.concatenate(result_list, axis=0) if result_list else None"
   ]
  },
  {
   "cell_type": "code",
   "execution_count": null,
   "id": "2144e147-4970-4aaa-ab07-d03618c7b37b",
   "metadata": {},
   "outputs": [],
   "source": [
    "from multiprocessing import Pool, cpu_count\n",
    "from multiprocessing import current_process\n",
    "from tqdm.contrib.concurrent import process_map"
   ]
  },
  {
   "cell_type": "code",
   "execution_count": null,
   "id": "cf61347f-3dce-4777-aeae-2055dbda2e5f",
   "metadata": {},
   "outputs": [],
   "source": [
    "def process_flow(data):\n",
    "    # Set a different numpy random seed for each worker process\n",
    "    np.random.seed(os.getpid() + current_process()._identity[0])\n",
    "    # data contains both the index and the actual flow\n",
    "    index, flow = data\n",
    "    try:\n",
    "        return np.expand_dims(transform_flow(flow), axis=0)\n",
    "    except Exception as e:\n",
    "        print(f\"Error occurred: {e}\")\n",
    "        return None"
   ]
  },
  {
   "cell_type": "code",
   "execution_count": null,
   "id": "e57a7000-a319-4963-a73f-2e9a81d9a736",
   "metadata": {},
   "outputs": [],
   "source": [
    "num_processors = cpu_count()\n",
    "# Create a list of tuples containing both indices and the actual flow data\n",
    "indices_and_flows = [(i, flow) for i, flow in enumerate(noiseless_flows)] * 2\n",
    "result_list = process_map(process_flow, indices_and_flows, max_workers=num_processors)\n",
    "# Remove None results if any\n",
    "result_list = [result for result in result_list if result is not None]\n",
    "new_flows = np.concatenate(result_list, axis=0) if result_list else None"
   ]
  },
  {
   "cell_type": "code",
   "execution_count": null,
   "id": "6b38879c-6713-45ab-98d1-9584657ba8fc",
   "metadata": {},
   "outputs": [],
   "source": [
    "flows, segmentation_maps, velocity_scales, sdfs, velocity_scale_for_norm = generate_3dstenosis(\n",
    "    nvox=64, \n",
    "    transforms=True, \n",
    "    data_aug=1\n",
    ") "
   ]
  },
  {
   "cell_type": "code",
   "execution_count": null,
   "id": "7cad6770-f258-4009-9b11-bc154fcb8f73",
   "metadata": {},
   "outputs": [],
   "source": []
  },
  {
   "cell_type": "code",
   "execution_count": null,
   "id": "95c70e5e-0bcb-4d2b-b795-b3ea1270bba1",
   "metadata": {},
   "outputs": [],
   "source": []
  },
  {
   "cell_type": "code",
   "execution_count": null,
   "id": "4d6e1928-45fb-46a4-bb8e-08afa6472e82",
   "metadata": {},
   "outputs": [],
   "source": []
  }
 ],
 "metadata": {
  "kernelspec": {
   "display_name": "Python 3 (ipykernel)",
   "language": "python",
   "name": "python3"
  },
  "language_info": {
   "codemirror_mode": {
    "name": "ipython",
    "version": 3
   },
   "file_extension": ".py",
   "mimetype": "text/x-python",
   "name": "python",
   "nbconvert_exporter": "python",
   "pygments_lexer": "ipython3",
   "version": "3.9.13"
  }
 },
 "nbformat": 4,
 "nbformat_minor": 5
}
