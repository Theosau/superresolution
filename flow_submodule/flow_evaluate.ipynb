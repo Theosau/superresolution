{
 "cells": [
  {
   "cell_type": "code",
   "execution_count": 1,
   "id": "66dace44-156a-4e1d-bbdc-4f58201f46fb",
   "metadata": {},
   "outputs": [
    {
     "data": {
      "text/plain": [
       "'\\xa0notebook to work on the geometry encoding of the image\\nwill have to create a basic geometry encoder based on the signed distance field \\nSo what is the idea? do we start from a signed distance field? or do we start from the segmentation and have \\na 2 stage process?\\n'"
      ]
     },
     "execution_count": 1,
     "metadata": {},
     "output_type": "execute_result"
    }
   ],
   "source": [
    "''' notebook to work on the geometry encoding of the image\n",
    "will have to create a basic geometry encoder based on the signed distance field \n",
    "So what is the idea? do we start from a signed distance field? or do we start from the segmentation and have \n",
    "a 2 stage process?\n",
    "'''"
   ]
  },
  {
   "cell_type": "code",
   "execution_count": 2,
   "id": "69480422-b529-4672-8dd8-01f78899e8f1",
   "metadata": {},
   "outputs": [],
   "source": [
    "%load_ext autoreload"
   ]
  },
  {
   "cell_type": "code",
   "execution_count": 3,
   "id": "a8260c2f-86c5-4766-800a-dd6f2f7fad6a",
   "metadata": {},
   "outputs": [],
   "source": [
    "%autoreload 2"
   ]
  },
  {
   "cell_type": "code",
   "execution_count": 4,
   "id": "06a1ed28-4281-448e-8b62-c08c26212718",
   "metadata": {},
   "outputs": [],
   "source": [
    "import os, yaml, torch\n",
    "from torch.nn import MSELoss, L1Loss, CosineSimilarity\n",
    "from torch.utils.data import DataLoader\n",
    "from copy import deepcopy \n",
    "from matplotlib.colors import Normalize\n",
    "import matplotlib as mpl\n",
    "curdir = os.getcwd()\n",
    "os.chdir('..')\n",
    "from data.data_generation import generate_dataset,generate_pipe_flow_dataset, generate_3dstenosis, generate_3daneurysm\n",
    "os.chdir(curdir)"
   ]
  },
  {
   "cell_type": "code",
   "execution_count": 5,
   "id": "7765dca2-ceb0-4c4a-a2c4-bb92abbaea68",
   "metadata": {},
   "outputs": [],
   "source": [
    "from copy import deepcopy\n",
    "import numpy as np\n",
    "from tqdm.notebook import tqdm\n",
    "import matplotlib.pyplot as plt"
   ]
  },
  {
   "cell_type": "code",
   "execution_count": 6,
   "id": "847dc1ff-07a6-4199-bdbb-f478fdb648af",
   "metadata": {},
   "outputs": [],
   "source": [
    "model_name = '3daneurysm_3dstenosis_weighted_1_1_1back_scheduler099_sparsity500_transforms_aug1_mse_latent60_noise10_continued' #\n",
    "# loading the model config\n",
    "with open(f\"flow_trainings/flow_config_models/{model_name}.yml\") as file:\n",
    "    config = yaml.safe_load(file)\n",
    "checkpoint = torch.load(f'flow_trainings/flow_saved_models/{model_name}')"
   ]
  },
  {
   "cell_type": "code",
   "execution_count": 7,
   "id": "4c914a55-6c56-4ab2-8f9d-0dc39cf1cd6a",
   "metadata": {},
   "outputs": [
    {
     "name": "stdout",
     "output_type": "stream",
     "text": [
      "/notebooks/superresolution\n"
     ]
    }
   ],
   "source": [
    "from train_flow_submodule import PoseuilleFlow\n",
    "nvox=64\n",
    "# # volume size\n",
    "# nvox = config[\"nvox\"]\n",
    "# nsamples = 10\n",
    "# multthickness = config[\"multthickness\"]\n",
    "# multpositions = config[\"multpositions\"]\n",
    "# multangles = config[\"multangles\"]\n",
    "# flows_in_z = config[\"flows_in_z\"]\n",
    "\n",
    "# # datasets\n",
    "# gen_channel = config[\"gen_channel\"]\n",
    "# gen_pipe = config[\"gen_pipe\"]\n",
    "# assert gen_channel or gen_pipe, 'You should at least generate channel flows or pipe flows.'\n",
    "\n",
    "# if gen_channel:\n",
    "#     flows, segmentation_maps, _, velocity_scale_for_norm_channel = generate_dataset(\n",
    "#         nsamples=nsamples, \n",
    "#         nvox=nvox, \n",
    "#         xmin=0, \n",
    "#         xmax=10, \n",
    "#         ymin=0, \n",
    "#         ymax=10, \n",
    "#         sdf=False,\n",
    "#         flows_in_z = flows_in_z,\n",
    "#         multthickness = multthickness,\n",
    "#         multpositions = multpositions,\n",
    "#         multangles = multangles\n",
    "#     )\n",
    "\n",
    "# if gen_pipe:\n",
    "#     flows_pipe, segmentation_maps_pipe, _, velocity_scale_for_norm_pipe = generate_pipe_flow_dataset(\n",
    "#         nsamples=nsamples,\n",
    "#         nvox=nvox, \n",
    "#         xmin=0, \n",
    "#         xmax=10, \n",
    "#         ymin=0, \n",
    "#         ymax=10, \n",
    "#         sdf=False,\n",
    "#         multthickness = multthickness,\n",
    "#         multpositions = multpositions,\n",
    "#         multangles = multangles\n",
    "#     )"
   ]
  },
  {
   "cell_type": "code",
   "execution_count": 8,
   "id": "b500a155-1480-4bc0-ac7d-b1b1f24f4751",
   "metadata": {},
   "outputs": [],
   "source": [
    "# main_flows=deepcopy(flows)"
   ]
  },
  {
   "cell_type": "code",
   "execution_count": 9,
   "id": "bbca9e8b-d39a-4a60-be6a-51272220f115",
   "metadata": {},
   "outputs": [],
   "source": [
    "# flows = main_flows"
   ]
  },
  {
   "cell_type": "code",
   "execution_count": 10,
   "id": "d39fd127-b7da-4867-954e-3717388bdcc7",
   "metadata": {},
   "outputs": [],
   "source": [
    "# if gen_channel and gen_pipe:\n",
    "#     # concatenate vel_scales, maps\n",
    "#     segmentation_maps = np.concatenate((segmentation_maps, segmentation_maps_pipe), axis=0)\n",
    "#     del segmentation_maps_pipe\n",
    "\n",
    "#     try:\n",
    "#         velocity_scale_for_norm = checkpoint[\"velocity_scale_for_norm\"]\n",
    "#         flows_pipe = flows_pipe * velocity_scale_for_norm_pipe / velocity_scale_for_norm\n",
    "#         flows = flows * velocity_scale_for_norm_channel / velocity_scale_for_norm\n",
    "#         print(\"Loaded training normalization velocity scale.\")\n",
    "#     except:\n",
    "#         # normalize all the flows together\n",
    "#         if velocity_scale_for_norm_channel >= velocity_scale_for_norm_pipe:\n",
    "#             flows_pipe = flows_pipe * velocity_scale_for_norm_pipe / velocity_scale_for_norm_channel\n",
    "#             velocity_scale_for_norm = velocity_scale_for_norm_channel\n",
    "#         else:\n",
    "#             flows = flows * velocity_scale_for_norm_channel / velocity_scale_for_norm_pipe\n",
    "#             velocity_scale_for_norm = velocity_scale_for_norm_pipe\n",
    "\n",
    "#     # concatenate flows, maps\n",
    "#     flows = np.concatenate((flows, flows_pipe), axis=0)\n",
    "#     del flows_pipe\n",
    "\n",
    "# # just channel flows\n",
    "# elif gen_channel:\n",
    "#     try:\n",
    "#         velocity_scale_for_norm = checkpoint[\"velocity_scale_for_norm\"]\n",
    "#         flows = flows * velocity_scale_for_norm_channel / velocity_scale_for_norm\n",
    "#         print(\"Loaded training normalization velocity scale.\")\n",
    "#     except:\n",
    "#         velocity_scale_for_norm = velocity_scale_for_norm_channel\n",
    "\n",
    "# # just pipe flows\n",
    "# else:\n",
    "#     try:\n",
    "#         print('pipe flows')\n",
    "#         velocity_scale_for_norm = checkpoint[\"velocity_scale_for_norm\"]\n",
    "#         flows = flows_pipe * velocity_scale_for_norm_pipe / velocity_scale_for_norm\n",
    "#         segmentation_maps = segmentation_maps_pipe\n",
    "#         del flows_pipe\n",
    "#         print(\"Loaded training normalization velocity scale.\")\n",
    "#     except Exception as e:\n",
    "#         print(e)\n",
    "#         flows = flows_pipe \n",
    "#         segmentation_maps = segmentation_maps_pipe\n",
    "#         velocity_scale_for_norm = velocity_scale_for_norm_pipe"
   ]
  },
  {
   "cell_type": "code",
   "execution_count": 11,
   "id": "8150cb97-fc8a-443c-9d66-e3283cb3d4c4",
   "metadata": {},
   "outputs": [],
   "source": [
    "# complex_flows = np.fft.fftn(flows)\n",
    "\n",
    "# std_complex=3000\n",
    "# real_noise = np.random.normal(loc=0.0, scale=std_complex, size=flows.shape)\n",
    "# complex_flows += real_noise\n",
    "# del real_noise\n",
    "\n",
    "# imag_noise = np.random.normal(loc=0.0, scale=std_complex, size=flows.shape)\n",
    "# complex_flows += 1j*imag_noise\n",
    "# del imag_noise\n",
    "\n",
    "# flows = np.real(np.fft.ifftn(complex_flows))"
   ]
  },
  {
   "cell_type": "code",
   "execution_count": 12,
   "id": "7fdc0dd8-8e26-4082-8656-ff496f9790cb",
   "metadata": {},
   "outputs": [],
   "source": [
    "# # generate stenosis\n",
    "# flows, segmentation_maps, _, velocity_scale_for_norm_eval = generate_3daneurysm(\n",
    "#     nvox=64, \n",
    "#     sdf=False, \n",
    "#     transforms=True, \n",
    "#     data_aug=1, \n",
    "#     mode=\"eval\"\n",
    "# )\n",
    "\n",
    "# velocity_scale_for_norm = checkpoint[\"velocity_scale_for_norm\"]\n",
    "# flows = flows * velocity_scale_for_norm_eval / velocity_scale_for_norm"
   ]
  },
  {
   "cell_type": "code",
   "execution_count": 13,
   "id": "a4dbbfef-9107-4a38-b05a-0e0d5c23f775",
   "metadata": {},
   "outputs": [
    {
     "name": "stdout",
     "output_type": "stream",
     "text": [
      "Normalizing samples.\n",
      "Creating segmentation maps.\n",
      "Adding edges.\n",
      "Created edges.\n",
      "Add edges on the side.\n",
      "Normalizing samples.\n",
      "Creating segmentation maps.\n",
      "Adding edges.\n",
      "Created edges.\n",
      "Add edges on the side.\n"
     ]
    }
   ],
   "source": [
    "# datasets\n",
    "gen_stenosis = config[\"gen_stenosis\"]\n",
    "gen_aneurysm = config[\"gen_aneurysm\"]\n",
    "assert gen_stenosis or gen_aneurysm, 'You should at least generate stenosis flows or aneurysm flows.'\n",
    "\n",
    "# augmentation\n",
    "transforms = False #config[\"transforms\"]\n",
    "data_aug = config[\"data_aug\"]\n",
    "\n",
    "if gen_stenosis:\n",
    "    flows, segmentation_maps, _, velocity_scale_for_norm_stenosis = generate_3dstenosis(\n",
    "        nvox=64, \n",
    "        sdf=False, \n",
    "        transforms=transforms,\n",
    "        data_aug=data_aug,\n",
    "        mode=\"eval\"\n",
    "    )\n",
    "\n",
    "if gen_aneurysm:\n",
    "    flows_aneurysm, segmentation_maps_aneurysm, _, velocity_scale_for_norm_aneurysm = generate_3daneurysm(\n",
    "        nvox=64, \n",
    "        sdf=False, \n",
    "        transforms=transforms,\n",
    "        data_aug=data_aug,\n",
    "        mode=\"eval\"\n",
    "    )\n",
    "\n",
    "if gen_stenosis and gen_aneurysm:\n",
    "    # concatenate vel_scales, maps\n",
    "    segmentation_maps = np.concatenate((segmentation_maps, segmentation_maps_aneurysm), axis=0)\n",
    "    del segmentation_maps_aneurysm\n",
    "\n",
    "    # normalize all the flows together\n",
    "    if velocity_scale_for_norm_stenosis >= velocity_scale_for_norm_aneurysm:\n",
    "        flows_aneurysm = flows_aneurysm * velocity_scale_for_norm_aneurysm / velocity_scale_for_norm_stenosis\n",
    "        velocity_scale_for_norm = velocity_scale_for_norm_stenosis\n",
    "    else:\n",
    "        flows = flows * velocity_scale_for_norm_stenosis / velocity_scale_for_norm_aneursym\n",
    "        velocity_scale_for_norm = velocity_scale_for_norm_aneurysm\n",
    "\n",
    "    # concatenate flows, maps\n",
    "    flows = np.concatenate((flows, flows_aneurysm), axis=0)\n",
    "    del flows_aneurysm\n",
    "\n",
    "# just channel flows\n",
    "elif gen_stenosis:\n",
    "    velocity_scale_for_norm = velocity_scale_for_norm_stenosis\n",
    "\n",
    "# just pipe flows\n",
    "else:\n",
    "    flows = flows_aneurysm\n",
    "    segmentation_maps = segmentation_maps_aneurysm\n",
    "    velocity_scale_for_norm = velocity_scale_for_norm_aneurysm\n"
   ]
  },
  {
   "cell_type": "code",
   "execution_count": 14,
   "id": "5b754856-4905-4712-8170-055c7e8a9cd8",
   "metadata": {},
   "outputs": [],
   "source": [
    "flows=flows*velocity_scale_for_norm/34.6839153"
   ]
  },
  {
   "cell_type": "code",
   "execution_count": 15,
   "id": "52f4ee15-2169-4c96-8e0b-ff717f991c92",
   "metadata": {},
   "outputs": [],
   "source": [
    "noiseless_flows = deepcopy(flows)"
   ]
  },
  {
   "cell_type": "code",
   "execution_count": 16,
   "id": "7a502bdb-a02f-48e2-81ad-2dcf262d61a1",
   "metadata": {},
   "outputs": [],
   "source": [
    "# downscale and upscale the flows\n",
    "def downscale_3D_torch(arr, scale_factor=1/4): #4.65\n",
    "    B, _, N, _, _ = arr.shape\n",
    "    downscaled_arr = torch.nn.functional.interpolate(arr, scale_factor=scale_factor, mode='trilinear', align_corners=True)\n",
    "    return downscaled_arr\n",
    "\n",
    "def upscale_3D_torch(arr, output_size):\n",
    "    upscaled_arr = torch.nn.functional.interpolate(arr, size=output_size, mode='trilinear', align_corners=True)\n",
    "    return upscaled_arr\n",
    "\n",
    "low_res = False\n",
    "if low_res:\n",
    "    # assume arr is your numpy array\n",
    "    flows = torch.from_numpy(noiseless_flows).float() # convert numpy array to pytorch tensor\n",
    "    flows = downscale_3D_torch(flows, scale_factor=64/64)\n",
    "\n",
    "    # add noise in low res\n",
    "    noise = np.random.normal(loc=0.0, scale=config[\"noise_std\"], size=flows.shape)\n",
    "    flows = flows * (1 + noise)\n",
    "    plt.imshow(flows[0, 0, :, :, flows.shape[-1]//2], cmap=mpl.colormaps['coolwarm'])\n",
    "    plt.colorbar()\n",
    "    flows = upscale_3D_torch(flows, noiseless_flows.shape[2:])\n",
    "    # convert tensor back to numpy\n",
    "    flows = flows.numpy()\n",
    "    flows[noiseless_flows==0] = 0"
   ]
  },
  {
   "cell_type": "code",
   "execution_count": 17,
   "id": "010137f2-d3d7-4fd0-bc6d-a2bd38543307",
   "metadata": {},
   "outputs": [],
   "source": [
    "if not low_res:\n",
    "    noise = np.random.normal(loc=0.0, scale=config[\"noise_std\"], size=flows.shape)\n",
    "\n",
    "    # remove noise from no slip boundary\n",
    "    segmentation_maps_rep = np.repeat(segmentation_maps, 3, axis=1)\n",
    "    boundaries = segmentation_maps_rep==1\n",
    "    no_slip = flows==0\n",
    "\n",
    "    noise[np.logical_and(boundaries, no_slip)] = 0\n",
    "    noise[segmentation_maps_rep==0]=0\n",
    "\n",
    "    flows = flows * (1 + noise)\n",
    "\n",
    "    del boundaries\n",
    "    del no_slip"
   ]
  },
  {
   "cell_type": "code",
   "execution_count": 18,
   "id": "013b8a09-9590-4d23-8939-46c9b0898e82",
   "metadata": {},
   "outputs": [],
   "source": [
    "eval_flows_hr = True\n",
    "if eval_flows_hr:\n",
    "    # ints = [307, 191, 199, 165, 208, 88, 296, 212, 44, 138, 101, 195, 204, 2, 216, 113, 254, 16, 116, 315]\n",
    "    selected_integers = [147, 165, 189, 133, 215, 222, 136,   7,  12,  39, 254, 173,  18,\n",
    "        29,  19,   3, 157,   9, 132, 146,  36, 199, 111, 240, 130, 243,\n",
    "        168,  53, 186,  99, 123,  71, 160, 125,  74, 306, 214, 253, 140,\n",
    "        13, 282, 291, 230,  89,  57,   6, 247,   0,  94, 181, 284,  25,\n",
    "        268, 114, 226,  90,  60, 172,  79, 235, 113, 278, 180, 112, 143,\n",
    "        127, 193,  11, 308, 252, 229,  32,  30, 183, 101, 1,  48, 188,\n",
    "        158, 283, 145, 264, 117, 227, 166,  77, 142, 231,  21,  63, 195,\n",
    "        305, 106, 297, 296,  52,  98, 275,  97, 274\n",
    "    ]\n",
    "    flows_hr = np.concatenate([\n",
    "        np.load('../data/3dstenosis/3dstenosis_hr.npy')[selected_integers], \n",
    "        np.load('../data/3daneurysm/3daneurysm_hr.npy')[selected_integers]\n",
    "    ])\n",
    "    flows_hr /= checkpoint[\"velocity_scale_for_norm\"]"
   ]
  },
  {
   "cell_type": "code",
   "execution_count": 19,
   "id": "8bf0b99b-7c95-4cac-90b0-4d090201928a",
   "metadata": {},
   "outputs": [],
   "source": [
    "import importlib\n",
    "specific_model = importlib.import_module(f'flow_trainings.flow_models.{model_name}')\n",
    "ConvNet = specific_model.ConvNet"
   ]
  },
  {
   "cell_type": "code",
   "execution_count": 20,
   "id": "19549f18-bcb0-42bc-836d-80567cb974b9",
   "metadata": {},
   "outputs": [
    {
     "name": "stdout",
     "output_type": "stream",
     "text": [
      "cuda\n"
     ]
    }
   ],
   "source": [
    "# setting device and data types\n",
    "dtype = torch.float32\n",
    "device = torch.device(\"cuda\") if torch.cuda.is_available() else torch.device(\"cpu\")\n",
    "print(device)"
   ]
  },
  {
   "cell_type": "code",
   "execution_count": 21,
   "id": "a87d1c6a-f8b9-469a-a9e2-c0681fc7987b",
   "metadata": {
    "tags": []
   },
   "outputs": [],
   "source": [
    "# dataloaders\n",
    "test_dataset = PoseuilleFlow(flows)\n",
    "batch_size = config[\"batch_size\"]\n",
    "test_dataloader = DataLoader(test_dataset, batch_size=batch_size, shuffle=False)"
   ]
  },
  {
   "cell_type": "code",
   "execution_count": 22,
   "id": "5e2fe1ba-54ec-4734-99e1-bcde4b4031c5",
   "metadata": {},
   "outputs": [],
   "source": [
    "# setup models\n",
    "model = ConvNet(\n",
    "    input_size=nvox, \n",
    "    channels_in=flows.shape[1], \n",
    "    channels_init=config[\"channels_init\"],\n",
    "    channels_out=config[\"channels_out\"],\n",
    "    latent_space_size=config[\"latent_space_size\"],\n",
    ")"
   ]
  },
  {
   "cell_type": "code",
   "execution_count": 23,
   "id": "9b42a543-4632-43d6-b6bc-f7c94b8dc1f0",
   "metadata": {},
   "outputs": [],
   "source": [
    "checkpoint = torch.load(f\"flow_trainings/flow_saved_models/{model_name}\", map_location=torch.device(\"cpu\"))\n",
    "model.load_state_dict(checkpoint[\"model_state_dict\"])\n",
    "model = model.to(device=device)\n",
    "model.eval()\n",
    "# set up losses\n",
    "loss_function_mae = L1Loss()\n",
    "loss_function_mse = MSELoss()\n",
    "loss_function_cosine = CosineSimilarity(dim=1, eps=1e-08)"
   ]
  },
  {
   "cell_type": "code",
   "execution_count": 24,
   "id": "86313a33-6fac-41e2-b74a-42b1e5d08e66",
   "metadata": {},
   "outputs": [
    {
     "data": {
      "text/plain": [
       "<torch.utils.hooks.RemovableHandle at 0x7f7a10884b50>"
      ]
     },
     "execution_count": 24,
     "metadata": {},
     "output_type": "execute_result"
    }
   ],
   "source": [
    "intermediate_outputs = []\n",
    "def hook(module, input, output):\n",
    "    intermediate_outputs.append(output)\n",
    "model.enc7.register_forward_hook(hook)"
   ]
  },
  {
   "cell_type": "code",
   "execution_count": 27,
   "id": "e098d8c0-e74f-4ebd-86da-2abc7b10a2d5",
   "metadata": {},
   "outputs": [
    {
     "data": {
      "application/vnd.jupyter.widget-view+json": {
       "model_id": "3e354b17b63642d6865e9d57acf0ae1a",
       "version_major": 2,
       "version_minor": 0
      },
      "text/plain": [
       "0it [00:00, ?it/s]"
      ]
     },
     "metadata": {},
     "output_type": "display_data"
    },
    {
     "name": "stdout",
     "output_type": "stream",
     "text": [
      "mae: 1.88e-03,  mse: 2.92e-04,  cosine: 3.61e-02, \n"
     ]
    }
   ],
   "source": [
    "epoch_total_loss_mae = 0\n",
    "epoch_total_loss_mse = 0\n",
    "epoch_total_loss_cosine = 0\n",
    "predictions = np.zeros_like(flows)\n",
    "predictions_hr = np.zeros([\n",
    "    flows.shape[0], \n",
    "    flows.shape[1],\n",
    "    110,\n",
    "    110,\n",
    "    1\n",
    "])\n",
    "\n",
    "with torch.no_grad():\n",
    "    counter = 0\n",
    "\n",
    "    for i, flow_batch in tqdm(enumerate(test_dataloader)):\n",
    "        flow_batch = flow_batch.to(device=device, dtype=dtype) # move to device, e.g. GPU\n",
    "        # =====================forward======================\n",
    "        # compute latent vectors\n",
    "        reconstruction = model(flow_batch)\n",
    "        intermediate_output_tensor = intermediate_outputs[0]\n",
    "        \n",
    "        loss_mae = loss_function_mae(reconstruction, flow_batch)\n",
    "        loss_mse = loss_function_mse(reconstruction, flow_batch)\n",
    "        loss_cosine = torch.sum(loss_function_cosine(reconstruction, flow_batch))/(flow_batch.shape[0]*(nvox**3))\n",
    "\n",
    "        predictions[counter:counter+len(flow_batch), ...] = reconstruction.detach().cpu().numpy()\n",
    "        \n",
    "        if eval_flows_hr:\n",
    "            reconstruction_hr = torch.nn.functional.interpolate(reconstruction, size=110, mode='trilinear', align_corners=True)\n",
    "            predictions_hr[counter:counter+len(flow_batch), ...] = reconstruction_hr[..., 55:56].detach().cpu().numpy()\n",
    "        counter += len(flow_batch)\n",
    "\n",
    "        # update write iteration loss\n",
    "        epoch_total_loss_mae += (loss_mae.item()*flow_batch.shape[0])\n",
    "        epoch_total_loss_mse += (loss_mse.item()*flow_batch.shape[0])\n",
    "        epoch_total_loss_cosine += (loss_cosine.item()*flow_batch.shape[0])\n",
    "\n",
    "print(\n",
    "    f\"mae: {epoch_total_loss_mae/(len(test_dataset)):.2e}, \",\n",
    "    f\"mse: {epoch_total_loss_mse/(len(test_dataset)):.2e}, \",\n",
    "    f\"cosine: {epoch_total_loss_cosine/(len(test_dataset)):.2e}, \",\n",
    ")"
   ]
  },
  {
   "cell_type": "code",
   "execution_count": 28,
   "id": "98e3a3b7-2539-421d-a38d-8e367e0a27b5",
   "metadata": {},
   "outputs": [],
   "source": [
    "reconstructions = deepcopy(predictions)\n",
    "flows_for_viz = deepcopy(flows)\n",
    "noiseless_flows_for_viz = deepcopy(noiseless_flows)\n",
    "\n",
    "mask = (segmentation_maps != 2).squeeze()\n",
    "# Modify the selected values in place using masked_fill_()\n",
    "reconstructions[:, 0, ...][mask]= np.nan #0\n",
    "reconstructions[:, 1, ...][mask]= np.nan #0\n",
    "reconstructions[:, 2, ...][mask]= np.nan #0\n",
    "\n",
    "noiseless_flows_for_viz[:, 0, ...][mask]= np.nan #0\n",
    "noiseless_flows_for_viz[:, 1, ...][mask]= np.nan #0\n",
    "noiseless_flows_for_viz[:, 2, ...][mask]= np.nan #0\n",
    "\n",
    "flows_for_viz[:, 0, ...][mask]= np.nan #0\n",
    "flows_for_viz[:, 1, ...][mask]= np.nan #0\n",
    "flows_for_viz[:, 2, ...][mask]= np.nan #0\n"
   ]
  },
  {
   "cell_type": "code",
   "execution_count": 29,
   "id": "612fcc6b-364a-4163-afca-ddd44df3349d",
   "metadata": {},
   "outputs": [
    {
     "name": "stdout",
     "output_type": "stream",
     "text": [
      "0.0003905046951775268\n",
      "0.019761191643661746\n"
     ]
    }
   ],
   "source": [
    "print(np.nanmean(np.square(noiseless_flows_for_viz-reconstructions)))\n",
    "print(np.sqrt(np.nanmean(np.square(noiseless_flows_for_viz-reconstructions))))"
   ]
  },
  {
   "cell_type": "code",
   "execution_count": 30,
   "id": "46fc7f9c-f900-4c9f-a07e-c165b1b3193e",
   "metadata": {},
   "outputs": [
    {
     "data": {
      "text/plain": [
       "34.08373740077505"
      ]
     },
     "execution_count": 30,
     "metadata": {},
     "output_type": "execute_result"
    }
   ],
   "source": [
    "10*np.log10(1/np.nanmean(np.square(noiseless_flows_for_viz-reconstructions)))"
   ]
  },
  {
   "cell_type": "code",
   "execution_count": 31,
   "id": "08197a2b-da25-4511-994a-372a3a43211b",
   "metadata": {},
   "outputs": [],
   "source": [
    "predictions_hr_for_viz = deepcopy(predictions_hr)\n",
    "flows_hr_for_viz = deepcopy(flows_hr)[:, :3, :, :, 0:1]\n",
    "\n",
    "mask = np.linalg.norm(flows_hr[:, :3, :, :, 0:1], axis=1, keepdims=True)==0\n",
    "predictions_hr_for_viz[np.repeat(mask, 3, axis=1)] = np.nan\n",
    "flows_hr_for_viz[np.repeat(mask, 3, axis=1)] = np.nan"
   ]
  },
  {
   "cell_type": "code",
   "execution_count": 32,
   "id": "db9919e3-d68a-4289-96cb-8de6db4edb9b",
   "metadata": {},
   "outputs": [
    {
     "name": "stdout",
     "output_type": "stream",
     "text": [
      "0.0004649630243994725\n",
      "0.021563001284595623\n"
     ]
    }
   ],
   "source": [
    "print(np.nanmean(np.square(flows_hr_for_viz-predictions_hr_for_viz)))\n",
    "print(np.sqrt(np.nanmean(np.square(flows_hr_for_viz-predictions_hr_for_viz))))"
   ]
  },
  {
   "cell_type": "code",
   "execution_count": 33,
   "id": "9d89e32d-3c3d-4da7-a8f4-2c2d9a601f0b",
   "metadata": {},
   "outputs": [
    {
     "data": {
      "text/plain": [
       "33.32581582460079"
      ]
     },
     "execution_count": 33,
     "metadata": {},
     "output_type": "execute_result"
    }
   ],
   "source": [
    "10*np.log10(1/np.nanmean(np.square(flows_hr_for_viz-predictions_hr_for_viz)))"
   ]
  },
  {
   "cell_type": "code",
   "execution_count": 126,
   "id": "57f04f42-7494-4620-b0ad-e6650ac492ca",
   "metadata": {},
   "outputs": [
    {
     "data": {
      "image/png": "[encoded data removed]",
      "text/plain": [
       "<Figure size 1080x720 with 4 Axes>"
      ]
     },
     "metadata": {
      "needs_background": "light"
     },
     "output_type": "display_data"
    }
   ],
   "source": [
    "i = 1\n",
    "vel_comp = 1\n",
    "fig, ax = plt.subplots(nrows=1, ncols=3, figsize=(15, 10))\n",
    "im0 = ax[0].imshow(noiseless_flows_for_viz[i, vel_comp, :, :, 30])\n",
    "ax[0].set_title('Noiseless')\n",
    "im1 = ax[1].imshow(flows_for_viz[i, vel_comp, :, :, 30])\n",
    "ax[1].set_title(r'$\\sigma = 1.0$')\n",
    "im2 = ax[2].imshow(reconstructions[i, vel_comp, :, :, 30])\n",
    "ax[2].set_title('Reconstruction')\n",
    "# im3 = ax[3].imshow(np.abs(noiseless_flows[i, vel_comp, :, :, 30] - reconstructions[i, vel_comp, :, :, 30]))\n",
    "# ax[3].set_title('Absolute Error')\n",
    "# im3 = ax[2].imshow(noiseless_flows[i, vel_comp, :, :, 15])\n",
    "# ax[2].set_title('Noiseless')\n",
    "\n",
    "#  Get the minimum and maximum values across both datasets\n",
    "vmin_recon = im0.get_array().min()\n",
    "vmax_recon = im0.get_array().max()\n",
    "\n",
    "# Normalize the colormap based on the shared min and max values\n",
    "norm_recon = Normalize(vmin=vmin_recon, vmax=vmax_recon)\n",
    "\n",
    "im0.set_norm(norm_recon)\n",
    "im1.set_norm(norm_recon)\n",
    "im2.set_norm(norm_recon)\n",
    "\n",
    "# add a colorbar to the right of the plot\n",
    "cbar_ax = fig.add_axes([0.92, 0.325, 0.02, 0.35]) # [left, bottom, width, height]\n",
    "cbar = plt.colorbar(im2, cax=cbar_ax)\n",
    "\n",
    "plt.show()"
   ]
  },
  {
   "cell_type": "code",
   "execution_count": 127,
   "id": "9713e00b-4a6b-44ff-bf02-ffc563b88644",
   "metadata": {},
   "outputs": [
    {
     "data": {
      "text/plain": [
       "(-1.1, 1.1, 0.0, 1000000.0)"
      ]
     },
     "execution_count": 127,
     "metadata": {},
     "output_type": "execute_result"
    },
    {
     "data": {
      "image/png": "[encoded data removed]",
      "text/plain": [
       "<Figure size 1080x360 with 2 Axes>"
      ]
     },
     "metadata": {
      "needs_background": "light"
     },
     "output_type": "display_data"
    }
   ],
   "source": [
    "fig, ax = plt.subplots(nrows=1, ncols=2, figsize=(15, 5))\n",
    "bins, ranges = 20, (-1,1)\n",
    "ymin, ymax = 0, 1000000\n",
    "# im1 = ax[0].hist(flows[:, [0,1,2], ...].flatten(), bins=bins, range=ranges)\n",
    "im1 = ax[0].hist(noiseless_flows[:, [0,1,2], ...][np.abs(flows)>0], bins=bins, range=ranges)\n",
    "ax[0].set_title('Original (cropped on y)')\n",
    "ax[0].axis(ymin=ymin, ymax=ymax)\n",
    "# im2 = ax[1].hist(reconstructions[:, [0,1,2], ...].flatten(), bins=bins, range=ranges)\n",
    "im2 = ax[1].hist(reconstructions[:, [0,1,2]][np.abs(flows)>0], bins=bins, range=ranges)\n",
    "ax[1].set_title('Reconstruction (cropped on y)')\n",
    "ax[1].axis(ymin=ymin, ymax=ymax)"
   ]
  },
  {
   "cell_type": "code",
   "execution_count": 36,
   "id": "973ecfe5-0563-4f22-9d5c-0e0097b50726",
   "metadata": {},
   "outputs": [],
   "source": [
    "# will look into different losses\n",
    "# l1, l2, the one I read on with the angles\n",
    "# cosine loss --> alignment of the vector at each point"
   ]
  },
  {
   "cell_type": "code",
   "execution_count": 37,
   "id": "9c5aeae6-c223-4745-a7d3-22cb27776601",
   "metadata": {},
   "outputs": [
    {
     "data": {
      "text/plain": [
       "0.021840870054522968"
      ]
     },
     "execution_count": 37,
     "metadata": {},
     "output_type": "execute_result"
    }
   ],
   "source": [
    "np.median(np.abs(flows[:, [0]][segmentation_maps==2]))"
   ]
  },
  {
   "cell_type": "code",
   "execution_count": 38,
   "id": "905da70a-9841-4fc0-ab1e-f888f01285fa",
   "metadata": {},
   "outputs": [
    {
     "data": {
      "text/plain": [
       "array([7.92497019e-04, 7.65471699e-04, 5.18188907e-06])"
      ]
     },
     "execution_count": 38,
     "metadata": {},
     "output_type": "execute_result"
    }
   ],
   "source": [
    "np.mean(flows**2, axis=(0, 2, 3, 4))"
   ]
  },
  {
   "cell_type": "code",
   "execution_count": 39,
   "id": "1ab2a7c9-49cf-40e4-973d-28cb754fd454",
   "metadata": {},
   "outputs": [
    {
     "data": {
      "text/plain": [
       "array([nan, nan, nan])"
      ]
     },
     "execution_count": 39,
     "metadata": {},
     "output_type": "execute_result"
    }
   ],
   "source": [
    "np.mean(np.abs(noiseless_flows-reconstructions), axis=(0, 2, 3, 4))"
   ]
  },
  {
   "cell_type": "code",
   "execution_count": 40,
   "id": "8809bc40-ed48-4bce-b15f-ea10248aad4b",
   "metadata": {},
   "outputs": [],
   "source": [
    "if config[\"noisy\"]:\n",
    "    np.mean(np.abs(noise), axis=(0, 2, 3, 4))"
   ]
  },
  {
   "cell_type": "code",
   "execution_count": 41,
   "id": "31f6fc33-3074-4fb0-b918-88ae5e73aabb",
   "metadata": {},
   "outputs": [
    {
     "data": {
      "text/plain": [
       "0.008134481085320756"
      ]
     },
     "execution_count": 41,
     "metadata": {},
     "output_type": "execute_result"
    }
   ],
   "source": [
    " np.median(np.abs(flows)[flows>0])"
   ]
  },
  {
   "cell_type": "code",
   "execution_count": 42,
   "id": "552e7cbf-97fd-4eff-b285-3bcca810c2e5",
   "metadata": {},
   "outputs": [
    {
     "data": {
      "text/plain": [
       "array([[[[[15.73463702]]]]])"
      ]
     },
     "execution_count": 42,
     "metadata": {},
     "output_type": "execute_result"
    }
   ],
   "source": [
    "velocity_scale_for_norm"
   ]
  },
  {
   "cell_type": "code",
   "execution_count": null,
   "id": "587e0c0d-6ae5-49e4-bcfe-ab346412f63c",
   "metadata": {},
   "outputs": [],
   "source": []
  },
  {
   "cell_type": "code",
   "execution_count": null,
   "id": "c95660a7-169a-4d35-acfc-dc9a0bb152d1",
   "metadata": {},
   "outputs": [],
   "source": []
  },
  {
   "cell_type": "code",
   "execution_count": null,
   "id": "47829c95-ddef-406b-ab8d-aa69d5962a5b",
   "metadata": {},
   "outputs": [],
   "source": []
  },
  {
   "cell_type": "code",
   "execution_count": null,
   "id": "a6d9ed79-0092-4015-99e8-2723e1586da7",
   "metadata": {},
   "outputs": [],
   "source": []
  },
  {
   "cell_type": "code",
   "execution_count": null,
   "id": "abe91c51-dce1-4d06-b9a5-9e4eeabfb64c",
   "metadata": {},
   "outputs": [],
   "source": []
  },
  {
   "cell_type": "code",
   "execution_count": null,
   "id": "530a3ee2-94b2-4145-ae97-ca0d0b4a0c8d",
   "metadata": {},
   "outputs": [],
   "source": []
  },
  {
   "cell_type": "code",
   "execution_count": null,
   "id": "60b0228b-a46b-4111-9331-dd9d476fdb12",
   "metadata": {},
   "outputs": [],
   "source": []
  },
  {
   "cell_type": "code",
   "execution_count": null,
   "id": "f2176ea1-d2f5-4260-8445-09bd4a2af674",
   "metadata": {},
   "outputs": [],
   "source": []
  },
  {
   "cell_type": "code",
   "execution_count": null,
   "id": "86ba6456-0bdd-4673-b6cd-2fa207114474",
   "metadata": {},
   "outputs": [],
   "source": []
  },
  {
   "cell_type": "code",
   "execution_count": null,
   "id": "2c451512-870d-42a8-bcd7-5c976f116d85",
   "metadata": {},
   "outputs": [],
   "source": []
  },
  {
   "cell_type": "code",
   "execution_count": null,
   "id": "45740de9-77d5-42d9-b499-3c902e053409",
   "metadata": {},
   "outputs": [],
   "source": []
  },
  {
   "cell_type": "code",
   "execution_count": null,
   "id": "5f1992bf-42f8-46e8-8763-89421b90e428",
   "metadata": {},
   "outputs": [],
   "source": []
  },
  {
   "cell_type": "code",
   "execution_count": 92,
   "id": "8db6f204-d66c-4c5a-a2ed-ca42bad4742b",
   "metadata": {},
   "outputs": [
    {
     "data": {
      "text/plain": [
       "Text(0.5, 0, 'x')"
      ]
     },
     "execution_count": 92,
     "metadata": {},
     "output_type": "execute_result"
    },
    {
     "data": {
      "image/png": "[encoded data removed]",
      "text/plain": [
       "<Figure size 432x288 with 1 Axes>"
      ]
     },
     "metadata": {
      "needs_background": "light"
     },
     "output_type": "display_data"
    }
   ],
   "source": [
    "xs = np.linspace(-5, 5, 100)\n",
    "tanhs = np.tanh(xs)\n",
    "plt.plot(xs, tanhs)\n",
    "plt.title('Hyperbolic tangent activation function')\n",
    "plt.ylabel('tanh(x)')\n",
    "plt.xlabel('x')"
   ]
  },
  {
   "cell_type": "code",
   "execution_count": 94,
   "id": "75dbb8d7-b79c-4b52-8701-39e26e903099",
   "metadata": {},
   "outputs": [
    {
     "data": {
      "text/plain": [
       "Text(0.5, 0, 'x')"
      ]
     },
     "execution_count": 94,
     "metadata": {},
     "output_type": "execute_result"
    },
    {
     "data": {
      "image/png": "[encoded data removed]",
      "text/plain": [
       "<Figure size 432x288 with 1 Axes>"
      ]
     },
     "metadata": {
      "needs_background": "light"
     },
     "output_type": "display_data"
    }
   ],
   "source": [
    "xs0 = np.linspace(-1, 1, 100)\n",
    "relus = deepcopy(xs0)\n",
    "relus[relus<0]=0\n",
    "plt.plot(xs0, relus)\n",
    "plt.title('Rectified Linear Unit activation function')\n",
    "plt.ylabel('ReLU(x)')\n",
    "plt.xlabel('x')"
   ]
  },
  {
   "cell_type": "code",
   "execution_count": null,
   "id": "1ec6ee0a-5195-449b-ba88-c6a4d8fb10ed",
   "metadata": {},
   "outputs": [],
   "source": []
  }
 ],
 "metadata": {
  "kernelspec": {
   "display_name": "Python 3 (ipykernel)",
   "language": "python",
   "name": "python3"
  },
  "language_info": {
   "codemirror_mode": {
    "name": "ipython",
    "version": 3
   },
   "file_extension": ".py",
   "mimetype": "text/x-python",
   "name": "python",
   "nbconvert_exporter": "python",
   "pygments_lexer": "ipython3",
   "version": "3.9.13"
  }
 },
 "nbformat": 4,
 "nbformat_minor": 5
}
