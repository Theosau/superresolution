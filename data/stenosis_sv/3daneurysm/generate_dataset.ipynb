{
 "cells": [
  {
   "cell_type": "code",
   "execution_count": 1,
   "metadata": {},
   "outputs": [],
   "source": [
    "import vtk, os\n",
    "from vtk.util import numpy_support\n",
    "import numpy as np\n",
    "from scipy.interpolate import griddata\n",
    "import matplotlib.pyplot as plt"
   ]
  },
  {
   "cell_type": "code",
   "execution_count": 2,
   "metadata": {},
   "outputs": [],
   "source": [
    "def numpy_from_vtu(file_name, verbose=False):\n",
    "\n",
    "    # find file name\n",
    "    for f in os.listdir(file_name + \"/4-procs_case/steady-converted-results/\"):\n",
    "        if f.endswith(\".vtu\"):\n",
    "            file_name = file_name + \"/4-procs_case/steady-converted-results/\" + f\n",
    "    \n",
    "    # set up reader and read file\n",
    "    reader = vtk.vtkXMLUnstructuredGridReader()\n",
    "    reader.SetFileName(file_name)\n",
    "    reader.Update()\n",
    "\n",
    "    # Get the 'vtkUnstructuredGrid' object from the reader\n",
    "    unstructuredGrid = reader.GetOutput()\n",
    "\n",
    "    # Get point data\n",
    "    pointData = unstructuredGrid.GetPointData()\n",
    "    velocityArray = pointData.GetArray(\"velocity\")\n",
    "    pressureArray = pointData.GetArray(\"pressure\")\n",
    "    wssArray = pointData.GetArray(\"vWSS\")\n",
    "\n",
    "    # Convert vtkArray to NumPy array\n",
    "    velocities = numpy_support.vtk_to_numpy(velocityArray)\n",
    "    pressures = numpy_support.vtk_to_numpy(pressureArray)\n",
    "    wsstresses = numpy_support.vtk_to_numpy(wssArray)\n",
    "    if verbose:\n",
    "        print(file_name, velocities.shape, pressures.shape, wsstresses.shape)\n",
    "\n",
    "    # Get the point coordinates\n",
    "    points = numpy_support.vtk_to_numpy(unstructuredGrid.GetPoints().GetData())\n",
    "\n",
    "    if verbose:\n",
    "        print('x', points[:,0].min(), points[:,0].max())\n",
    "        print('y', points[:,1].min(), points[:,1].max())\n",
    "        print('z', points[:,2].min(), points[:,2].max())\n",
    "\n",
    "    # Define the regular grid where you want to interpolate your data\n",
    "    # The specific values here should be adjusted according to your specific requirements\n",
    "    grid_x, grid_y, grid_z = np.mgrid[\n",
    "        points[:,2].min()-10:points[:,2].max()-10:64j,\n",
    "        points[:,2].min()-10:points[:,2].max()-10:64j,\n",
    "        points[:,2].min():points[:,2].max():64j\n",
    "    ]\n",
    "\n",
    "    # Perform the interpolation\n",
    "    grid_velocities = griddata(points, velocities, (grid_x, grid_y, grid_z), method='linear', fill_value=0)\n",
    "    grid_pressures = np.expand_dims(griddata(points, pressures, (grid_x, grid_y, grid_z), method='linear', fill_value=0), axis=-1)\n",
    "    grid_wsstresses = griddata(points, wsstresses, (grid_x, grid_y, grid_z), method='linear', fill_value=0)\n",
    "    # The grid_velocities array now contains the interpolated velocity values\n",
    "    # on the regular grid defined by grid_x, grid_y, and grid_z\n",
    "\n",
    "    if verbose:\n",
    "        print(grid_velocities.shape, grid_pressures.shape, grid_wsstresses.shape)\n",
    "\n",
    "    grid_values = np.concatenate([grid_velocities, grid_pressures, grid_wsstresses], axis=-1)\n",
    "\n",
    "    return grid_values"
   ]
  },
  {
   "cell_type": "code",
   "execution_count": 3,
   "metadata": {},
   "outputs": [],
   "source": [
    "import os\n",
    "exs = [f for f in os.listdir() if 'ex' in f]"
   ]
  },
  {
   "cell_type": "code",
   "execution_count": 4,
   "metadata": {},
   "outputs": [],
   "source": [
    "# import numpy as np\n",
    "# grid_values = []\n",
    "# for file_name in tqdm(exs):\n",
    "#     if \"ex\" in file_name:\n",
    "#         grid_values.append(np.expand_dims(numpy_from_vtu(file_name, verbose=False), axis=0))"
   ]
  },
  {
   "cell_type": "code",
   "execution_count": 5,
   "metadata": {},
   "outputs": [
    {
     "data": {
      "application/vnd.jupyter.widget-view+json": {
       "model_id": "09ad8ba9d2c54ea9a467e1fd9a596225",
       "version_major": 2,
       "version_minor": 0
      },
      "text/plain": [
       "  0%|          | 0/357 [00:00<?, ?it/s]"
      ]
     },
     "metadata": {},
     "output_type": "display_data"
    }
   ],
   "source": [
    "from joblib import Parallel, delayed\n",
    "import numpy as np\n",
    "from tqdm.notebook import tqdm\n",
    "\n",
    "def worker(file_name):\n",
    "    if \"ex\" in file_name:\n",
    "        return np.expand_dims(numpy_from_vtu(file_name, verbose=False), axis=0)\n",
    "\n",
    "grid_values = Parallel(n_jobs=-1)(delayed(worker)(file_name) for file_name in tqdm(exs))"
   ]
  },
  {
   "cell_type": "code",
   "execution_count": 6,
   "metadata": {},
   "outputs": [],
   "source": [
    "# from tqdm import tqdm\n",
    "# grid_values = [np.expand_dims(numpy_from_vtu(file_name, verbose=False), axis=0) for file_name in tqdm(exs)]\n",
    "# grid_values = np.concatenate(grid_values, axis=0)\n",
    "# zs = grid_values == 0\n",
    "# np.save('grid_values.npy', grid_values)"
   ]
  },
  {
   "cell_type": "code",
   "execution_count": 7,
   "metadata": {},
   "outputs": [],
   "source": [
    "grid_values = np.concatenate(grid_values, axis=0)"
   ]
  },
  {
   "cell_type": "code",
   "execution_count": 8,
   "metadata": {},
   "outputs": [],
   "source": [
    "from copy import deepcopy"
   ]
  },
  {
   "cell_type": "code",
   "execution_count": 9,
   "metadata": {},
   "outputs": [],
   "source": [
    "grid_values_temp = deepcopy(grid_values)"
   ]
  },
  {
   "cell_type": "code",
   "execution_count": 10,
   "metadata": {},
   "outputs": [
    {
     "data": {
      "text/plain": [
       "<matplotlib.colorbar.Colorbar at 0x178c796f0>"
      ]
     },
     "execution_count": 10,
     "metadata": {},
     "output_type": "execute_result"
    },
    {
     "data": {
      "image/png": "[encoded data removed]",
      "text/plain": [
       "<Figure size 640x480 with 2 Axes>"
      ]
     },
     "metadata": {},
     "output_type": "display_data"
    }
   ],
   "source": [
    "i = 1\n",
    "vel_comp = 2\n",
    "fig=plt.figure()\n",
    "ax = plt.axes()\n",
    "im = ax.imshow(grid_values_temp[i, :, 30, :, vel_comp])\n",
    "# plt.colorbar(im,fraction=0.046, pad=0.04)\n",
    "cax = fig.add_axes([ax.get_position().x1+0.01,ax.get_position().y0,0.02,ax.get_position().height])\n",
    "plt.colorbar(im, cax=cax) # Similar to fig.colorbar(im, cax = cax)"
   ]
  },
  {
   "cell_type": "code",
   "execution_count": 11,
   "metadata": {},
   "outputs": [],
   "source": [
    "values_rearranged = np.transpose(grid_values, axes=[0, 4, 1, 3, 2])\n",
    "values_rearranged[:, [1, 2], ...] = values_rearranged[:, [2, 1], ...] # reorder velocities v and w"
   ]
  },
  {
   "cell_type": "code",
   "execution_count": 12,
   "metadata": {},
   "outputs": [],
   "source": [
    "np.save('3daneurysm.npy', values_rearranged)"
   ]
  },
  {
   "cell_type": "code",
   "execution_count": 17,
   "metadata": {},
   "outputs": [
    {
     "data": {
      "text/plain": [
       "<matplotlib.colorbar.Colorbar at 0x1791a48b0>"
      ]
     },
     "execution_count": 17,
     "metadata": {},
     "output_type": "execute_result"
    },
    {
     "data": {
      "image/png": "[encoded data removed]",
      "text/plain": [
       "<Figure size 640x480 with 2 Axes>"
      ]
     },
     "metadata": {},
     "output_type": "display_data"
    }
   ],
   "source": [
    "i = 1\n",
    "vel_comp = 6\n",
    "fig=plt.figure()\n",
    "ax = plt.axes()\n",
    "im = ax.imshow(values_rearranged[i, vel_comp, :, :, 30])\n",
    "cax = fig.add_axes([ax.get_position().x1+0.01,ax.get_position().y0,0.02,ax.get_position().height])\n",
    "plt.colorbar(im, cax=cax)"
   ]
  },
  {
   "cell_type": "code",
   "execution_count": 18,
   "metadata": {},
   "outputs": [],
   "source": [
    "sstresses = values_rearranged[:, 4:]"
   ]
  },
  {
   "cell_type": "code",
   "execution_count": 19,
   "metadata": {},
   "outputs": [],
   "source": [
    "sstresses_norm = np.linalg.norm(sstresses, axis=1)"
   ]
  },
  {
   "cell_type": "code",
   "execution_count": 20,
   "metadata": {},
   "outputs": [
    {
     "data": {
      "text/plain": [
       "(357, 64, 64, 64)"
      ]
     },
     "execution_count": 20,
     "metadata": {},
     "output_type": "execute_result"
    }
   ],
   "source": [
    "sstresses_norm.shape"
   ]
  },
  {
   "cell_type": "code",
   "execution_count": 26,
   "metadata": {},
   "outputs": [
    {
     "data": {
      "text/plain": [
       "<matplotlib.colorbar.Colorbar at 0x1796992a0>"
      ]
     },
     "execution_count": 26,
     "metadata": {},
     "output_type": "execute_result"
    },
    {
     "data": {
      "image/png": "[encoded data removed]",
      "text/plain": [
       "<Figure size 640x480 with 2 Axes>"
      ]
     },
     "metadata": {},
     "output_type": "display_data"
    }
   ],
   "source": [
    "i = 100\n",
    "vel_comp = 6\n",
    "fig=plt.figure()\n",
    "ax = plt.axes()\n",
    "im = ax.imshow(sstresses_norm[i, :, :, 30])\n",
    "cax = fig.add_axes([ax.get_position().x1+0.01,ax.get_position().y0,0.02,ax.get_position().height])\n",
    "plt.colorbar(im, cax=cax)"
   ]
  },
  {
   "cell_type": "code",
   "execution_count": null,
   "metadata": {},
   "outputs": [],
   "source": []
  }
 ],
 "metadata": {
  "kernelspec": {
   "display_name": "fenicsx-env",
   "language": "python",
   "name": "python3"
  },
  "language_info": {
   "codemirror_mode": {
    "name": "ipython",
    "version": 3
   },
   "file_extension": ".py",
   "mimetype": "text/x-python",
   "name": "python",
   "nbconvert_exporter": "python",
   "pygments_lexer": "ipython3",
   "version": "3.10.11"
  },
  "orig_nbformat": 4
 },
 "nbformat": 4,
 "nbformat_minor": 2
}
