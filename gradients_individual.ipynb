{
 "cells": [
  {
   "cell_type": "code",
   "execution_count": 1,
   "id": "objective-passing",
   "metadata": {},
   "outputs": [],
   "source": [
    "import torch"
   ]
  },
  {
   "cell_type": "code",
   "execution_count": 3,
   "id": "cognitive-interval",
   "metadata": {},
   "outputs": [],
   "source": [
    "import torch.nn.functional as F\n",
    "\n",
    "class SmallCNN(torch.nn.Module):\n",
    "\n",
    "    def __init__(self):\n",
    "        super(SmallCNN, self).__init__()\n",
    "        # 1 input image channel (black & white), 6 output channels, 5x5 square convolution\n",
    "        # kernel\n",
    "        self.conv1 = torch.nn.Conv2d(3, 3, kernel_size=3, padding=1)\n",
    "\n",
    "    def forward(self, x):\n",
    "        x = self.conv1(x)\n",
    "        return x\n",
    "\n",
    "smallCNN = SmallCNN()"
   ]
  },
  {
   "cell_type": "code",
   "execution_count": 4,
   "id": "ranking-there",
   "metadata": {},
   "outputs": [],
   "source": [
    "class SmallLinear(torch.nn.Module):\n",
    "\n",
    "    def __init__(self):\n",
    "        super(SmallLinear, self).__init__()\n",
    "        # 1 input image channel (black & white), 6 output channels, 5x5 square convolution\n",
    "        # kernel\n",
    "        self.lin1 = torch.nn.Linear(5, 5)\n",
    "        self.lin2 = torch.nn.Linear(5, 4)\n",
    "        self.lin3 = torch.nn.Linear(4, 3)\n",
    "        self.activation = torch.nn.Tanh()\n",
    "\n",
    "    def forward(self, x):\n",
    "        x = self.lin1(x)\n",
    "        x = self.activation(x)\n",
    "        x = self.lin2(x)\n",
    "        x = self.activation(x)\n",
    "        x = self.lin3(x)\n",
    "        return x\n",
    "\n",
    "smallLinear = SmallLinear()"
   ]
  },
  {
   "cell_type": "code",
   "execution_count": 5,
   "id": "549cab0a",
   "metadata": {},
   "outputs": [],
   "source": [
    "loss_fct = torch.nn.MSELoss()"
   ]
  },
  {
   "cell_type": "code",
   "execution_count": 94,
   "id": "75903824",
   "metadata": {},
   "outputs": [],
   "source": [
    "batch_size = 20\n",
    "reshape_size = 8\n",
    "input_uvp = torch.rand((batch_size, 3, reshape_size, reshape_size))"
   ]
  },
  {
   "cell_type": "code",
   "execution_count": 95,
   "id": "514f686c",
   "metadata": {},
   "outputs": [],
   "source": [
    "latent_vectors = smallCNN(input_uvp)"
   ]
  },
  {
   "cell_type": "code",
   "execution_count": 96,
   "id": "38c59e05",
   "metadata": {},
   "outputs": [],
   "source": [
    "# loss = loss_fct(input_uvp, latent_vectors)"
   ]
  },
  {
   "cell_type": "code",
   "execution_count": 97,
   "id": "f9342d93",
   "metadata": {},
   "outputs": [],
   "source": [
    "# I want to add the boundary conditions as input to the linear network as well. This is to hope that the \n",
    "# boundary information will be conveyed, hence the model will be able to solve the same equation for various\n",
    "# boundary conditions.\n",
    "# Geometric boundary condition under the form of a signed distance field.\n",
    "# Velocity boundary as a loss function on the velocity at the inlet, outlet, and walls."
   ]
  },
  {
   "cell_type": "code",
   "execution_count": 99,
   "id": "a13de67a",
   "metadata": {},
   "outputs": [],
   "source": [
    "# imagine I have a list of boundary points, per image, probably have them as 1d, from a segmentaiton map where\n",
    "# 0 is background, 1 is boundary, 2 is interior point\n",
    "map_square = torch.randint(0, 3, (batch_size, reshape_size, reshape_size)) # segmentation map for the image pixels"
   ]
  },
  {
   "cell_type": "code",
   "execution_count": 100,
   "id": "3f4c3a78",
   "metadata": {},
   "outputs": [],
   "source": [
    "latent_vectors_perm = latent_vectors.permute(0, 2, 3, 1)\n",
    "interior_points = latent_vectors_perm[map_square==2] # all interior points from the batch\n",
    "boundary_points = latent_vectors_perm[map_square==1] # all boundary points from the batch"
   ]
  },
  {
   "cell_type": "code",
   "execution_count": 101,
   "id": "10784286",
   "metadata": {},
   "outputs": [],
   "source": [
    "xs_for_grid = torch.linspace(-1, 1, reshape_size)\n",
    "ys_for_grid = torch.linspace(-1, 1, reshape_size)"
   ]
  },
  {
   "cell_type": "code",
   "execution_count": 102,
   "id": "518f71db",
   "metadata": {},
   "outputs": [],
   "source": [
    "x_physical, y_physical = torch.meshgrid([xs_for_grid, ys_for_grid])"
   ]
  },
  {
   "cell_type": "code",
   "execution_count": 103,
   "id": "c4489238",
   "metadata": {},
   "outputs": [],
   "source": [
    "# xs = [torch.cat([outs[i, :, i, i], x[:, 0], y[:, 0]]) for i in range(5)]"
   ]
  },
  {
   "cell_type": "code",
   "execution_count": 104,
   "id": "0f19c187",
   "metadata": {},
   "outputs": [],
   "source": [
    "x_physical_batch  = x_physical.repeat(batch_size, 1, 1)\n",
    "y_physical_batch  = y_physical.repeat(batch_size, 1, 1)"
   ]
  },
  {
   "cell_type": "code",
   "execution_count": 105,
   "id": "f994c52f",
   "metadata": {},
   "outputs": [
    {
     "data": {
      "text/plain": [
       "torch.Size([20, 8, 8])"
      ]
     },
     "execution_count": 105,
     "metadata": {},
     "output_type": "execute_result"
    }
   ],
   "source": [
    "x_physical_batch.shape"
   ]
  },
  {
   "cell_type": "code",
   "execution_count": 106,
   "id": "7240f9c7",
   "metadata": {},
   "outputs": [],
   "source": [
    "x_interior_points = x_physical_batch[map_square==2].view(-1, 1)\n",
    "x_boundary_points = x_physical_batch[map_square==1].view(-1, 1)\n",
    "y_interior_points = y_physical_batch[map_square==2].view(-1, 1)\n",
    "y_boundary_points = y_physical_batch[map_square==1].view(-1, 1)"
   ]
  },
  {
   "cell_type": "code",
   "execution_count": 107,
   "id": "8d4878cc",
   "metadata": {},
   "outputs": [
    {
     "data": {
      "text/plain": [
       "tensor([-0.1533,  0.2114,  0.3398, -1.0000, -0.7143], grad_fn=<CatBackward0>)"
      ]
     },
     "execution_count": 107,
     "metadata": {},
     "output_type": "execute_result"
    }
   ],
   "source": [
    "i = 0 \n",
    "torch.cat([interior_points[i], x_interior_points[i], y_interior_points[i]])"
   ]
  },
  {
   "cell_type": "code",
   "execution_count": 108,
   "id": "86d59850",
   "metadata": {},
   "outputs": [],
   "source": [
    "input_features = torch.cat([x_interior_points, y_interior_points, interior_points], dim=1)\n"
   ]
  },
  {
   "cell_type": "code",
   "execution_count": 109,
   "id": "16bc3b0a",
   "metadata": {},
   "outputs": [
    {
     "data": {
      "text/plain": [
       "torch.Size([446, 5])"
      ]
     },
     "execution_count": 109,
     "metadata": {},
     "output_type": "execute_result"
    }
   ],
   "source": [
    "input_features.shape"
   ]
  },
  {
   "cell_type": "code",
   "execution_count": 110,
   "id": "b2bad979",
   "metadata": {},
   "outputs": [],
   "source": [
    "inputs = [input_features[..., i:i+1] for i in range(input_features.shape[-1])]\n",
    "# for xx in inputs:\n",
    "#     if not xx.requires_grad:\n",
    "#         xx.requires_grad = True\n",
    "x_ = torch.cat(inputs, axis=-1)"
   ]
  },
  {
   "cell_type": "code",
   "execution_count": 111,
   "id": "1f72bc71",
   "metadata": {},
   "outputs": [],
   "source": [
    "outputs = smallLinear(input_features)"
   ]
  },
  {
   "cell_type": "code",
   "execution_count": 112,
   "id": "057d54f4",
   "metadata": {},
   "outputs": [],
   "source": [
    "# inputs[0].shape"
   ]
  },
  {
   "cell_type": "code",
   "execution_count": 113,
   "id": "cedbdea2",
   "metadata": {},
   "outputs": [],
   "source": [
    "# outputs[:,0].sum()"
   ]
  },
  {
   "cell_type": "code",
   "execution_count": 114,
   "id": "e4aeb277",
   "metadata": {},
   "outputs": [],
   "source": [
    "# x_.shape"
   ]
  },
  {
   "cell_type": "code",
   "execution_count": 115,
   "id": "b89641f0",
   "metadata": {},
   "outputs": [],
   "source": [
    "# inputs = input_features\n",
    "# x_ = input_features\n",
    "outputs = x_[:,[0]]**2"
   ]
  },
  {
   "cell_type": "code",
   "execution_count": 116,
   "id": "02af06f0",
   "metadata": {},
   "outputs": [
    {
     "data": {
      "text/plain": [
       "torch.Size([446, 1])"
      ]
     },
     "execution_count": 116,
     "metadata": {},
     "output_type": "execute_result"
    }
   ],
   "source": [
    "outputs.shape"
   ]
  },
  {
   "cell_type": "code",
   "execution_count": 117,
   "id": "ef7c6d79",
   "metadata": {},
   "outputs": [],
   "source": [
    "dudx, dudy = torch.autograd.grad(outputs[:,0].sum(), [inputs[0], inputs[1]], retain_graph=True, create_graph=True)\n",
    "# dvdx, dvdy = torch.autograd.grad(outputs[:,1].sum(), [inputs[0], inputs[1]], retain_graph=True, create_graph=True)\n",
    "d2udx2 = torch.autograd.grad(dudx.sum(), inputs[0], retain_graph=True, create_graph=True)\n",
    "d2udy2 = torch.autograd.grad(dudy.sum(), inputs[1], retain_graph=True, create_graph=True)"
   ]
  },
  {
   "cell_type": "code",
   "execution_count": 124,
   "id": "db3a0631",
   "metadata": {},
   "outputs": [],
   "source": [
    "loss = torch.mean((dudx + dudy)**2)"
   ]
  },
  {
   "cell_type": "code",
   "execution_count": 125,
   "id": "9b9e1781",
   "metadata": {},
   "outputs": [],
   "source": [
    "loss.backward()"
   ]
  },
  {
   "cell_type": "code",
   "execution_count": 120,
   "id": "400f5e3f",
   "metadata": {},
   "outputs": [],
   "source": [
    "# dudxv2, dudyv2 = torch.autograd.grad(outputs[:,0], [inputs[0], inputs[1]], grad_outputs=torch.ones_like(inputs[0].squeeze(-1)), retain_graph=True, create_graph=True)\n"
   ]
  },
  {
   "cell_type": "code",
   "execution_count": 121,
   "id": "5f1e5569",
   "metadata": {},
   "outputs": [],
   "source": [
    "dudxv2, dudyv2 = torch.autograd.grad(outputs[:, 0], [inputs[0], inputs[1]], grad_outputs=torch.ones_like(outputs[:, 0]).view(-1), retain_graph=True, create_graph=True)\n"
   ]
  },
  {
   "cell_type": "code",
   "execution_count": null,
   "id": "758f862f",
   "metadata": {},
   "outputs": [],
   "source": []
  },
  {
   "cell_type": "code",
   "execution_count": null,
   "id": "52c8751a",
   "metadata": {},
   "outputs": [],
   "source": []
  },
  {
   "cell_type": "code",
   "execution_count": null,
   "id": "baec5325",
   "metadata": {},
   "outputs": [],
   "source": []
  },
  {
   "cell_type": "code",
   "execution_count": null,
   "id": "11bf3f12",
   "metadata": {},
   "outputs": [],
   "source": []
  },
  {
   "cell_type": "code",
   "execution_count": null,
   "id": "5dc97534",
   "metadata": {},
   "outputs": [],
   "source": []
  },
  {
   "cell_type": "code",
   "execution_count": null,
   "id": "3e9639cc",
   "metadata": {},
   "outputs": [],
   "source": []
  },
  {
   "cell_type": "code",
   "execution_count": 122,
   "id": "035b6f89",
   "metadata": {},
   "outputs": [],
   "source": [
    "from functorch import grad"
   ]
  },
  {
   "cell_type": "code",
   "execution_count": 126,
   "id": "73a8b50f",
   "metadata": {},
   "outputs": [],
   "source": [
    "# grad(smallLinear)(input_features)"
   ]
  },
  {
   "cell_type": "code",
   "execution_count": null,
   "id": "38738a67",
   "metadata": {},
   "outputs": [],
   "source": []
  },
  {
   "cell_type": "code",
   "execution_count": null,
   "id": "2c20799c",
   "metadata": {},
   "outputs": [],
   "source": [
    "def take_grad(outs, ins):\n",
    "    print(outs[0].requires_grad, ins[0].requires_grad, ins[1].requires_grad)\n",
    "    outs[0].requires_grad = True\n",
    "    ins[0].requires_grad = True\n",
    "    ins[1].requires_grad = True\n",
    "    print(outs[0].requires_grad, ins[0].requires_grad, ins[1].requires_grad)\n",
    "    dudx, dudy = torch.autograd.grad(outs[0], [ins[0], ins[1]], grad_outputs=torch.ones_like(outs[0]), retain_graph=True, create_graph=True)\n",
    "    d2udx2 = torch.autograd.grad(dudx, ins[0], grad_outputs=torch.ones_like(dudx), retain_graph=True, create_graph=True)[0]\n",
    "    d2udy2 = torch.autograd.grad(dudy, ins[1], grad_outputs=torch.ones_like(dudy), retain_graph=True, create_graph=True)[0]\n",
    "    return dudx, dudy, d2udx2, d2udy2\n"
   ]
  },
  {
   "cell_type": "code",
   "execution_count": null,
   "id": "190d4c2b",
   "metadata": {},
   "outputs": [],
   "source": [
    "torch.vmap(take_grad)(outputs, x_)"
   ]
  },
  {
   "cell_type": "code",
   "execution_count": null,
   "id": "8545846c",
   "metadata": {},
   "outputs": [],
   "source": []
  },
  {
   "cell_type": "code",
   "execution_count": null,
   "id": "9af70655",
   "metadata": {},
   "outputs": [],
   "source": []
  },
  {
   "cell_type": "code",
   "execution_count": null,
   "id": "a7e3b929",
   "metadata": {},
   "outputs": [],
   "source": [
    "dudx, dudy = torch.autograd.grad(outputs[0], [inputs[0], inputs[1]], grad_outputs=torch.ones_like(outputs[0]), retain_graph=True, create_graph=True)\n"
   ]
  },
  {
   "cell_type": "code",
   "execution_count": null,
   "id": "0d9ac57b",
   "metadata": {},
   "outputs": [],
   "source": [
    "dudx, dudy = torch.autograd.grad(outputs[0], [inputs[0], inputs[1]], grad_outputs=torch.ones_like(outputs[0]), retain_graph=True, create_graph=True)\n",
    "d2udx2 = torch.autograd.grad(dudx, inputs[0], grad_outputs=torch.ones_like(dudx), retain_graph=True, create_graph=True)"
   ]
  },
  {
   "cell_type": "code",
   "execution_count": null,
   "id": "80e95687",
   "metadata": {},
   "outputs": [],
   "source": [
    "d2udx2[0].shape"
   ]
  },
  {
   "cell_type": "code",
   "execution_count": null,
   "id": "instructional-nicholas",
   "metadata": {},
   "outputs": [],
   "source": [
    "x = torch.randperm(5, dtype=torch.float32, requires_grad=True).view(-1, 5)\n",
    "y = torch.randperm(5, dtype=torch.float32, requires_grad=True).view(-1, 5)"
   ]
  },
  {
   "cell_type": "code",
   "execution_count": null,
   "id": "pleasant-sector",
   "metadata": {},
   "outputs": [],
   "source": [
    "input_features = [torch.cat([outs[i, :, i, i], x[:, 0], y[:, 0]]) for i in range(5)]"
   ]
  },
  {
   "cell_type": "code",
   "execution_count": null,
   "id": "average-culture",
   "metadata": {},
   "outputs": [],
   "source": [
    "input_features = torch.vstack(input_features)"
   ]
  },
  {
   "cell_type": "code",
   "execution_count": null,
   "id": "lovely-secretary",
   "metadata": {},
   "outputs": [],
   "source": [
    "input_features.shape"
   ]
  },
  {
   "cell_type": "code",
   "execution_count": null,
   "id": "sunset-examination",
   "metadata": {},
   "outputs": [],
   "source": [
    "# lin_out = smallLinear(input_features[0])"
   ]
  },
  {
   "cell_type": "code",
   "execution_count": null,
   "id": "embedded-height",
   "metadata": {},
   "outputs": [],
   "source": [
    "# lin_out.shape"
   ]
  },
  {
   "cell_type": "code",
   "execution_count": null,
   "id": "separated-truth",
   "metadata": {},
   "outputs": [],
   "source": [
    "# lin_out, lin_in"
   ]
  },
  {
   "cell_type": "code",
   "execution_count": null,
   "id": "mobile-california",
   "metadata": {},
   "outputs": [],
   "source": [
    "lin_in = input_features[0]\n",
    "inputs = [x.view(-1, 1) for x in lin_in]\n",
    "print(inputs)\n",
    "x_ = torch.cat(inputs, axis=-1)\n",
    "lin_out = smallLinear(x_)\n",
    "# lin_out = x_**2 + torch.sum(x_)**2\n",
    "print(lin_out.shape)\n",
    "outputs = [lin_out[..., i:i+1] for i in range(lin_out.shape[-1])]\n",
    "# lin_out = torch.sum(lin_in)\n",
    "dudx, dudy = torch.autograd.grad(outputs[0], [inputs[0], inputs[1]], grad_outputs=torch.ones_like(outputs[0]), retain_graph=True, create_graph=True)\n",
    "d2udx2 = torch.autograd.grad(dudx, inputs[0], grad_outputs=torch.ones_like(dudx), retain_graph=True, create_graph=True)\n",
    "# dvd = torch.autograd.grad(lin_out[1], lin_in, grad_outputs=torch.ones_like(lin_out[1]), retain_graph=True, create_graph=True)\n",
    "\n",
    "# d2ud2 = torch.autograd.grad(dud[0][0], lin_in, grad_outputs=torch.ones_like(dud[0][0]), retain_graph=True, create_graph=True)\n"
   ]
  },
  {
   "cell_type": "code",
   "execution_count": null,
   "id": "systematic-flight",
   "metadata": {},
   "outputs": [],
   "source": [
    "d2udx2"
   ]
  },
  {
   "cell_type": "code",
   "execution_count": null,
   "id": "thirty-longer",
   "metadata": {},
   "outputs": [],
   "source": [
    "inputs = [input_features[..., i:i+1] for i in range(input_features.shape[0])]\n",
    "outputs = [lin_out[..., i:i+1] for i in range(lin_out.shape[0])]"
   ]
  },
  {
   "cell_type": "code",
   "execution_count": null,
   "id": "coupled-privacy",
   "metadata": {},
   "outputs": [],
   "source": [
    "# torch_diff = lambda y, x: grad(y, x, grad_outputs=torch.ones_like(y), create_graph=True,\n",
    "#                                allow_unused=True)[0]"
   ]
  },
  {
   "cell_type": "code",
   "execution_count": null,
   "id": "consolidated-corps",
   "metadata": {},
   "outputs": [],
   "source": [
    "dudx, dudy = torch.autograd.grad(outputs[0], inputs[0], grad_outputs=torch.ones_like(outputs[0]), retain_graph=True, create_graph=True)\n",
    "\n"
   ]
  },
  {
   "cell_type": "code",
   "execution_count": null,
   "id": "fatal-prize",
   "metadata": {},
   "outputs": [],
   "source": []
  },
  {
   "cell_type": "code",
   "execution_count": null,
   "id": "indoor-arabic",
   "metadata": {},
   "outputs": [],
   "source": []
  },
  {
   "cell_type": "code",
   "execution_count": null,
   "id": "d9665113",
   "metadata": {},
   "outputs": [],
   "source": [
    "from torch import vmap"
   ]
  },
  {
   "cell_type": "code",
   "execution_count": null,
   "id": "computational-silver",
   "metadata": {},
   "outputs": [],
   "source": [
    "from functorch import vmap\n",
    "x = torch.randn(3)\n",
    "y = vmap(torch.sin)(x)\n",
    "assert torch.allclose(y, x.sin())"
   ]
  },
  {
   "cell_type": "code",
   "execution_count": null,
   "id": "partial-processor",
   "metadata": {},
   "outputs": [],
   "source": [
    "from functorch import jacrev, vmap"
   ]
  },
  {
   "cell_type": "code",
   "execution_count": null,
   "id": "purple-mirror",
   "metadata": {},
   "outputs": [],
   "source": [
    "x = torch.randn(64, 5)\n",
    "jacobian = vmap(jacrev(torch.sin))(x)\n",
    "assert jacobian.shape == (64, 5, 5)"
   ]
  },
  {
   "cell_type": "code",
   "execution_count": null,
   "id": "great-disclosure",
   "metadata": {},
   "outputs": [],
   "source": [
    "# x = torch.rand(4, 3, 2, 2)\n",
    "x = torch.arange(4*1*2*2, dtype=torch.float32).reshape((4, 1, 2, 2))\n",
    "x_fl = x.view(4, -1)"
   ]
  },
  {
   "cell_type": "code",
   "execution_count": null,
   "id": "taken-legislation",
   "metadata": {},
   "outputs": [],
   "source": [
    "x_fl.shape"
   ]
  },
  {
   "cell_type": "code",
   "execution_count": null,
   "id": "bibliographic-communications",
   "metadata": {},
   "outputs": [],
   "source": [
    "torch.square(x_fl).shape"
   ]
  },
  {
   "cell_type": "code",
   "execution_count": null,
   "id": "northern-carbon",
   "metadata": {},
   "outputs": [],
   "source": [
    "# jacobian_fl = vmap(jacrev(torch.sin))(x_fl)\n",
    "jacobian_fl = vmap(jacrev(torch.square))(x_fl)"
   ]
  },
  {
   "cell_type": "code",
   "execution_count": null,
   "id": "social-digit",
   "metadata": {},
   "outputs": [],
   "source": [
    "jacobian_fl.shape"
   ]
  },
  {
   "cell_type": "code",
   "execution_count": null,
   "id": "deluxe-recommendation",
   "metadata": {},
   "outputs": [],
   "source": [
    "jacobian = jacobian_fl.reshape(4, 1, 4, 4)"
   ]
  },
  {
   "cell_type": "code",
   "execution_count": null,
   "id": "economic-damage",
   "metadata": {},
   "outputs": [],
   "source": [
    "jacobian_fl.shape"
   ]
  },
  {
   "cell_type": "code",
   "execution_count": null,
   "id": "educational-wildlife",
   "metadata": {},
   "outputs": [],
   "source": [
    "# torch.diag(torch.cos(x[0, 0]))\n",
    "# torch.cos(x[0, 0])"
   ]
  },
  {
   "cell_type": "code",
   "execution_count": null,
   "id": "controlling-testimony",
   "metadata": {},
   "outputs": [],
   "source": [
    "vals = vmap(lambda x: torch.reshape(torch.diag(x.squeeze()), (2,2)))(jacobian)\n",
    "vals          "
   ]
  },
  {
   "cell_type": "code",
   "execution_count": null,
   "id": "liable-graphic",
   "metadata": {},
   "outputs": [],
   "source": [
    "torch.diag(jacobian[0].squeeze()).reshape(2, 2)"
   ]
  },
  {
   "cell_type": "code",
   "execution_count": null,
   "id": "formal-advice",
   "metadata": {},
   "outputs": [],
   "source": [
    "torch.diag(jacobian[1].squeeze()).reshape(2, 2)"
   ]
  },
  {
   "cell_type": "code",
   "execution_count": null,
   "id": "clinical-addiction",
   "metadata": {},
   "outputs": [],
   "source": [
    "x.shape"
   ]
  },
  {
   "cell_type": "code",
   "execution_count": null,
   "id": "8fa0674b",
   "metadata": {},
   "outputs": [],
   "source": [
    "xtst = x[0, 0]"
   ]
  },
  {
   "cell_type": "code",
   "execution_count": null,
   "id": "00a8522d",
   "metadata": {},
   "outputs": [],
   "source": [
    "# xtst = torch.rand(32, 32)"
   ]
  },
  {
   "cell_type": "code",
   "execution_count": null,
   "id": "f3a02e73",
   "metadata": {},
   "outputs": [],
   "source": [
    "import functorch"
   ]
  },
  {
   "cell_type": "code",
   "execution_count": null,
   "id": "bfb49b1b",
   "metadata": {},
   "outputs": [],
   "source": [
    "import torch.nn.functional as F"
   ]
  },
  {
   "cell_type": "code",
   "execution_count": null,
   "id": "f432ee4b",
   "metadata": {},
   "outputs": [],
   "source": [
    "dims = F.one_hot(torch.arange(2*2))"
   ]
  },
  {
   "cell_type": "code",
   "execution_count": null,
   "id": "5ec68a2c",
   "metadata": {},
   "outputs": [],
   "source": [
    "dims = dims.view((-1, 2, 2))"
   ]
  },
  {
   "cell_type": "code",
   "execution_count": null,
   "id": "78ba3680",
   "metadata": {},
   "outputs": [],
   "source": [
    "dims.shape"
   ]
  },
  {
   "cell_type": "code",
   "execution_count": null,
   "id": "e83a67ee",
   "metadata": {},
   "outputs": [],
   "source": [
    "# x.requires_grad = True\n",
    "# xtst = torch.rand((1, 1, 32, 32), requires_grad=True)\n",
    "# ytst = torch.rand((1, 1, 32, 32), requires_grad=True)\n",
    "\n",
    "xtst = torch.arange(2*2, dtype=torch.float32, requires_grad=True).view(1, 1, 2, 2)\n",
    "ytst = torch.arange(2*2, dtype=torch.float32, requires_grad=True).view(1, 1, 2, 2)\n",
    "\n",
    "y = xtst**2 + xtst[:, :, 0, 0] + ytst #+ xtst[:, :, 0, 0] + xtst[:, :, 0, 1] + xtst[:, :, 1, 0] + xtst[:, :, 1, 1] + ytst**3"
   ]
  },
  {
   "cell_type": "code",
   "execution_count": null,
   "id": "2752a5ab",
   "metadata": {},
   "outputs": [],
   "source": [
    "# y = y.repeat(1, 3, 1, 1)\n",
    "# y.shape"
   ]
  },
  {
   "cell_type": "code",
   "execution_count": null,
   "id": "82e846bd",
   "metadata": {},
   "outputs": [],
   "source": [
    "# functorch.vmap(torch.autograd.grad)(\n",
    "#     y.repeat(2, 1, 1), \n",
    "#     [[xtst, ytst],[xtst, ytst]], \n",
    "#     grad_outputs=dims.repeat(2, 1, 1), \n",
    "#     is_grads_batched=True, \n",
    "#     retain_graph=True, \n",
    "#     create_graph=True\n",
    "# )\n"
   ]
  },
  {
   "cell_type": "code",
   "execution_count": null,
   "id": "f5ab8ada",
   "metadata": {},
   "outputs": [],
   "source": [
    "# torch.sum((dudx.squeeze())*dims, dim=0)"
   ]
  },
  {
   "cell_type": "code",
   "execution_count": null,
   "id": "d16ca839",
   "metadata": {},
   "outputs": [],
   "source": [
    "# %%timeit\n",
    "dudx, dudy = torch.autograd.grad(y[0, 0], [xtst, ytst], grad_outputs=dims, is_grads_batched=True, retain_graph=True, create_graph=True)\n",
    "# dudx = torch.sum((dudx*dims), dim=0)\n",
    "# dudy = torch.sum((dudy*dims), dim=0)"
   ]
  },
  {
   "cell_type": "code",
   "execution_count": null,
   "id": "a717ef70",
   "metadata": {},
   "outputs": [],
   "source": [
    "torch.sum((dudx.view(-1, 2, 2)*dims), dim=0)"
   ]
  },
  {
   "cell_type": "code",
   "execution_count": null,
   "id": "eb798805",
   "metadata": {},
   "outputs": [],
   "source": [
    "xtsts.shape"
   ]
  },
  {
   "cell_type": "code",
   "execution_count": null,
   "id": "7bad59ff",
   "metadata": {},
   "outputs": [],
   "source": [
    "import numpy as np"
   ]
  },
  {
   "cell_type": "code",
   "execution_count": null,
   "id": "c9abd29b",
   "metadata": {},
   "outputs": [],
   "source": [
    "# ys = y.repeat(2, 1, 1)\n",
    "# xtsts = xtst.repeat(2, 1, 1)\n",
    "# ytsts = ytst.repeat(2, 1, 1)\n",
    "\n",
    "xtsts = torch.rand((2, 32, 32), requires_grad=True)\n",
    "ytsts = torch.rand((2, 32, 32), requires_grad=True)\n",
    "\n",
    "xs = [i.unsqueeze(dim=0) for i in xtsts]\n",
    "ys = [i.unsqueeze(dim=0) for i in ytsts]\n",
    "\n",
    "xss = torch.cat(xs, dim=0)\n",
    "yss = torch.cat(ys, dim=0)\n",
    "\n",
    "print(xtsts.requires_grad)\n",
    "\n",
    "\n",
    "output = xss**2 + yss**3"
   ]
  },
  {
   "cell_type": "code",
   "execution_count": null,
   "id": "d0cd5790",
   "metadata": {},
   "outputs": [],
   "source": [
    "%%timeit\n",
    "for i in range(len(ys)):\n",
    "    yi = output[i]\n",
    "    dudx, dudy = torch.autograd.grad(yi, [xs[i], ys[i]], grad_outputs=dims, is_grads_batched=True, retain_graph=True, create_graph=True)\n",
    "    dudx = torch.sum((dudx*dims), dim=0)\n",
    "    dudy = torch.sum((dudy*dims), dim=0)\n",
    "    print(dudx.requires_grad, dudy.requires_grad)"
   ]
  },
  {
   "cell_type": "code",
   "execution_count": null,
   "id": "5bf1ce22",
   "metadata": {},
   "outputs": [],
   "source": [
    "d2udx2 = torch.autograd.grad(dudx, xtst, grad_outputs=dims, is_grads_batched=True, retain_graph=True, create_graph=True)\n",
    "# d2udx2[0].requires_grad = True\n",
    "print(d2udx2[0].requires_grad)\n",
    "d2udx2 = torch.sum((d2udx2[0]*dims), dim=0)\n",
    "d2udx2"
   ]
  },
  {
   "cell_type": "code",
   "execution_count": null,
   "id": "812d10aa",
   "metadata": {},
   "outputs": [],
   "source": [
    "d2udx2.requires_grad"
   ]
  },
  {
   "cell_type": "code",
   "execution_count": null,
   "id": "4774e863",
   "metadata": {},
   "outputs": [],
   "source": [
    "loss = torch.sum(d2udx2)"
   ]
  },
  {
   "cell_type": "code",
   "execution_count": null,
   "id": "2744fdee",
   "metadata": {},
   "outputs": [],
   "source": [
    "loss.backward()"
   ]
  },
  {
   "cell_type": "code",
   "execution_count": null,
   "id": "8a15e9d5",
   "metadata": {},
   "outputs": [],
   "source": [
    "d2udy2 = torch.autograd.grad(dudy, ytst, grad_outputs=dims, is_grads_batched=True, retain_graph=True)\n",
    "g = (d2udy2[0]*dims)\n",
    "h = torch.sum(g, dim=0)\n",
    "h"
   ]
  },
  {
   "cell_type": "code",
   "execution_count": null,
   "id": "707f27aa",
   "metadata": {},
   "outputs": [],
   "source": []
  },
  {
   "cell_type": "code",
   "execution_count": null,
   "id": "b6c6f724",
   "metadata": {},
   "outputs": [],
   "source": [
    "# d = torch.autograd.grad(c, xtst, grad_outputs=dims, is_grads_batched=True, retain_graph=True)\n",
    "# e = (d[0]*dims)\n",
    "# f = torch.sum(e, dim=0)\n",
    "# f"
   ]
  },
  {
   "cell_type": "code",
   "execution_count": null,
   "id": "b80f3599",
   "metadata": {},
   "outputs": [],
   "source": []
  },
  {
   "cell_type": "code",
   "execution_count": null,
   "id": "e0267731",
   "metadata": {},
   "outputs": [],
   "source": []
  },
  {
   "cell_type": "code",
   "execution_count": null,
   "id": "09f1187c",
   "metadata": {},
   "outputs": [],
   "source": [
    "dim1 = torch.Tensor([[1, 0], [0, 0]])\n",
    "dim2 = torch.Tensor([[0, 1], [0, 0]])\n",
    "dim3 = torch.Tensor([[0, 0], [1, 0]])\n",
    "dim4 = torch.Tensor([[0, 0], [0, 1]])"
   ]
  },
  {
   "cell_type": "code",
   "execution_count": null,
   "id": "3a8f4f25",
   "metadata": {},
   "outputs": [],
   "source": [
    "xtst"
   ]
  },
  {
   "cell_type": "code",
   "execution_count": null,
   "id": "4ea1b84f",
   "metadata": {},
   "outputs": [],
   "source": [
    "dim_grads = torch.cat(\n",
    "    [\n",
    "        dim1.view(1, 2, 2), \n",
    "        dim2.view(1, 2, 2),\n",
    "        dim3.view(1, 2, 2),\n",
    "        dim4.view(1, 2, 2),\n",
    "    ],\n",
    "    dim=0\n",
    ")"
   ]
  },
  {
   "cell_type": "code",
   "execution_count": null,
   "id": "ee85ef29",
   "metadata": {},
   "outputs": [],
   "source": [
    "# x.requires_grad = True\n",
    "y = xtst**2 + xtst[0, 0] + xtst[0, 1] + xtst[1, 0] + 9*xtst[1, 1]\n",
    "a = torch.autograd.grad(y, xtst, grad_outputs=dim_grads, is_grads_batched=True, retain_graph=True, create_graph=True)\n",
    "a"
   ]
  },
  {
   "cell_type": "code",
   "execution_count": null,
   "id": "58e17836",
   "metadata": {},
   "outputs": [],
   "source": [
    "# a[0].requires_grad = True\n",
    "b = (a[0]*dim_grads)\n",
    "b"
   ]
  },
  {
   "cell_type": "code",
   "execution_count": null,
   "id": "ce6568ee",
   "metadata": {},
   "outputs": [],
   "source": [
    "c = torch.sum(b, dim=0)\n",
    "c"
   ]
  },
  {
   "cell_type": "code",
   "execution_count": null,
   "id": "e29c08ea",
   "metadata": {},
   "outputs": [],
   "source": [
    "d = torch.autograd.grad(c, xtst, grad_outputs=dim_grads, is_grads_batched=True, retain_graph=True)\n",
    "e = (d[0]*dim_grads)\n",
    "f = torch.sum(e, dim=0)\n",
    "f"
   ]
  },
  {
   "cell_type": "code",
   "execution_count": null,
   "id": "4345c591",
   "metadata": {},
   "outputs": [],
   "source": []
  },
  {
   "cell_type": "code",
   "execution_count": null,
   "id": "a8d726cf",
   "metadata": {},
   "outputs": [],
   "source": [
    "a[0][0], dim1"
   ]
  },
  {
   "cell_type": "code",
   "execution_count": null,
   "id": "9e14f900",
   "metadata": {},
   "outputs": [],
   "source": [
    "a[0][1], dim2"
   ]
  },
  {
   "cell_type": "code",
   "execution_count": null,
   "id": "877d4810",
   "metadata": {},
   "outputs": [],
   "source": [
    "a[0][2], dim3"
   ]
  },
  {
   "cell_type": "code",
   "execution_count": null,
   "id": "c24610b8",
   "metadata": {},
   "outputs": [],
   "source": [
    "a[0][3], dim4"
   ]
  },
  {
   "cell_type": "code",
   "execution_count": null,
   "id": "f10faa83",
   "metadata": {},
   "outputs": [],
   "source": [
    "xtst"
   ]
  },
  {
   "cell_type": "code",
   "execution_count": null,
   "id": "6558d9d9",
   "metadata": {},
   "outputs": [],
   "source": [
    "y"
   ]
  },
  {
   "cell_type": "code",
   "execution_count": null,
   "id": "0f9dd414",
   "metadata": {},
   "outputs": [],
   "source": []
  },
  {
   "cell_type": "code",
   "execution_count": null,
   "id": "277a7ed4",
   "metadata": {},
   "outputs": [],
   "source": []
  },
  {
   "cell_type": "code",
   "execution_count": null,
   "id": "2f8f305b",
   "metadata": {},
   "outputs": [],
   "source": [
    "x.requires_grad = True\n",
    "# y.requires_grad = True"
   ]
  },
  {
   "cell_type": "code",
   "execution_count": null,
   "id": "respective-briefing",
   "metadata": {},
   "outputs": [],
   "source": [
    "y = x**2"
   ]
  },
  {
   "cell_type": "code",
   "execution_count": null,
   "id": "cd6faf1a",
   "metadata": {},
   "outputs": [],
   "source": [
    "torch.autograd.grad(y[0, 0, 0, 0], x[0, 0, 0, 0])#, grad_outputs=torch.ones(x.view(-1).shape))"
   ]
  },
  {
   "cell_type": "code",
   "execution_count": null,
   "id": "7fb6a2b5",
   "metadata": {},
   "outputs": [],
   "source": [
    "y"
   ]
  },
  {
   "cell_type": "code",
   "execution_count": null,
   "id": "c357dcc3",
   "metadata": {},
   "outputs": [],
   "source": [
    "y = x**2\n",
    "torch.autograd.grad(y, x, grad_outputs=torch.ones(x.shape))"
   ]
  },
  {
   "cell_type": "code",
   "execution_count": null,
   "id": "9020fca6",
   "metadata": {},
   "outputs": [],
   "source": [
    "x.shape"
   ]
  },
  {
   "cell_type": "code",
   "execution_count": null,
   "id": "c4155f71",
   "metadata": {},
   "outputs": [],
   "source": [
    "x.view(-1)"
   ]
  },
  {
   "cell_type": "code",
   "execution_count": null,
   "id": "8436b312",
   "metadata": {},
   "outputs": [],
   "source": []
  },
  {
   "cell_type": "code",
   "execution_count": null,
   "id": "ddd41570",
   "metadata": {},
   "outputs": [],
   "source": [
    "x_flat = x.view(-1, 2)"
   ]
  },
  {
   "cell_type": "code",
   "execution_count": null,
   "id": "e668aaeb",
   "metadata": {},
   "outputs": [],
   "source": [
    "x_flat.shape"
   ]
  },
  {
   "cell_type": "code",
   "execution_count": null,
   "id": "1bcb2d6a",
   "metadata": {},
   "outputs": [],
   "source": [
    "# list_tens = [i.unsqueeze(dim=0) for i in x_flat]\n",
    "list_tens = [i.unsqueeze(dim=0) for i in x_flat]"
   ]
  },
  {
   "cell_type": "code",
   "execution_count": null,
   "id": "f28cccd7",
   "metadata": {},
   "outputs": [],
   "source": [
    "list_tens"
   ]
  },
  {
   "cell_type": "code",
   "execution_count": null,
   "id": "3feeeea2",
   "metadata": {},
   "outputs": [],
   "source": [
    "torch.cat(list_tens, dim=0).shape"
   ]
  },
  {
   "cell_type": "code",
   "execution_count": null,
   "id": "ea7b0b1b",
   "metadata": {},
   "outputs": [],
   "source": [
    "list_tens[0].requires_grad"
   ]
  },
  {
   "cell_type": "code",
   "execution_count": null,
   "id": "466cbcc1",
   "metadata": {},
   "outputs": [],
   "source": [
    "# def forward(inp):\n",
    "#     print(inp[0].requires_grad)\n",
    "#     nt = torch.cat(inp, dim=0)\n",
    "# #     no = nt[:, 0]**2 + 3*nt[:, 1]**2 #+ (nt[:, 0]**2 + nt[:, 1]**3).sum()\n",
    "#     no = nt[0]**2 + 3*nt[1]**2\n",
    "# #     oup = [i.unsqueeze(dim=0) for i in no] #\n",
    "#     oup = no\n",
    "    \n",
    "#     dudx = torch.autograd.grad(oup, inp, grad_outputs=torch.ones(oup.shape), create_graph=True)\n",
    "#     d2udx2 = torch.autograd.grad(dudx, inp, grad_outputs=torch.ones(dudx[0].shape), create_graph=True)\n",
    "#     return list_out"
   ]
  },
  {
   "cell_type": "code",
   "execution_count": null,
   "id": "ab8ef6b8",
   "metadata": {},
   "outputs": [],
   "source": [
    "def forward(list_tens):\n",
    "    nt = torch.cat(list_tens, dim=0)\n",
    "    no = nt[:, 0]**2 + 3*nt[:, 1]**2 #+ (nt[:, 0]**2 + nt[:, 1]**3).sum()\n",
    "    list_out = [i.unsqueeze(dim=0) for i in no] #\n",
    "    return list_out"
   ]
  },
  {
   "cell_type": "code",
   "execution_count": null,
   "id": "201f9f3a",
   "metadata": {},
   "outputs": [],
   "source": [
    "idx = 3\n",
    "out = forward(list_tens)\n",
    "dudx = torch.autograd.grad(out[idx], list_tens[idx], grad_outputs=torch.ones(out[idx].shape), create_graph=True)\n",
    "d2udx2 = torch.autograd.grad(dudx, list_tens[idx], grad_outputs=torch.ones(dudx[0].shape), create_graph=True)\n",
    "d3udx3 = torch.autograd.grad(d2udx2, list_tens[idx], grad_outputs=torch.ones(d2udx2[0].shape), retain_graph=True)"
   ]
  },
  {
   "cell_type": "code",
   "execution_count": null,
   "id": "3734213a",
   "metadata": {},
   "outputs": [],
   "source": [
    "dudx, d2udx2, d3udx3"
   ]
  },
  {
   "cell_type": "code",
   "execution_count": null,
   "id": "7f812abe",
   "metadata": {},
   "outputs": [],
   "source": [
    "loss = (dudx[0] + d2udx2[0] + d3udx3[0]).sum()"
   ]
  },
  {
   "cell_type": "code",
   "execution_count": null,
   "id": "2c4dbd04",
   "metadata": {},
   "outputs": [],
   "source": [
    "loss.backward()"
   ]
  },
  {
   "cell_type": "code",
   "execution_count": null,
   "id": "dc285a84",
   "metadata": {},
   "outputs": [],
   "source": [
    "def compute_derivatives(inp, oup):\n",
    "    dudx = torch.autograd.grad(oup, inp, grad_outputs=torch.ones(oup.shape), create_graph=True)\n",
    "    d2udx2 = torch.autograd.grad(dudx, inp, grad_outputs=torch.ones(dudx[0].shape), create_graph=True)\n",
    "#     print(dudx[0], d2udx2[0])\n",
    "    return dudx[0], d2udx2[0] #torch.cat([dudx[0], d2udx2[0]], dim=0).view(2, 2, 1)"
   ]
  },
  {
   "cell_type": "code",
   "execution_count": null,
   "id": "c59debce",
   "metadata": {},
   "outputs": [],
   "source": [
    "# list(map(compute_derivatives, list_tens, out))"
   ]
  },
  {
   "cell_type": "code",
   "execution_count": null,
   "id": "205f5e40",
   "metadata": {},
   "outputs": [],
   "source": [
    "a = list(map(compute_derivatives, list_tens, out))"
   ]
  },
  {
   "cell_type": "code",
   "execution_count": null,
   "id": "9bee92b7",
   "metadata": {},
   "outputs": [],
   "source": [
    "a[0][0]"
   ]
  },
  {
   "cell_type": "code",
   "execution_count": null,
   "id": "c48a8bdf",
   "metadata": {},
   "outputs": [],
   "source": [
    "torch.cat(a[0], dim=0).view(-1)"
   ]
  },
  {
   "cell_type": "code",
   "execution_count": null,
   "id": "a3be143d",
   "metadata": {},
   "outputs": [],
   "source": [
    "x.shape"
   ]
  },
  {
   "cell_type": "code",
   "execution_count": null,
   "id": "6ae90caf",
   "metadata": {},
   "outputs": [],
   "source": [
    "torch.cat(a, dim=0).view(8, 1, 2, 2)[:, :, :]"
   ]
  },
  {
   "cell_type": "code",
   "execution_count": null,
   "id": "8e81932e",
   "metadata": {},
   "outputs": [],
   "source": [
    "dudxs, d2udx2s = torch.cat(a, dim=2)[0].T, torch.cat(a, dim=2)[1].T#.reshape(8, 4)"
   ]
  },
  {
   "cell_type": "code",
   "execution_count": null,
   "id": "f0aecd7e",
   "metadata": {},
   "outputs": [],
   "source": [
    "# torch.cat([dudxs, d2udx2s], dim=0).view(8, 2, 2)"
   ]
  },
  {
   "cell_type": "code",
   "execution_count": null,
   "id": "c9ac339a",
   "metadata": {},
   "outputs": [],
   "source": [
    "dudxs.shape"
   ]
  },
  {
   "cell_type": "code",
   "execution_count": null,
   "id": "707318fc",
   "metadata": {},
   "outputs": [],
   "source": [
    "torch.cat([dudxs.T, d2udx2s.T], dim=0)"
   ]
  },
  {
   "cell_type": "code",
   "execution_count": null,
   "id": "20991e1a",
   "metadata": {},
   "outputs": [],
   "source": [
    "def compute_derivatives(lists):\n",
    "#     print(list_i, list_o)\n",
    "#     print(len(list_o))\n",
    "    print(lists.shape)\n",
    "    list_i = lists[:2]\n",
    "    list_o = lists[2]\n",
    "    print(list_i.shape, list_o.requires_grad)\n",
    "    try:\n",
    "        list_i.requires_grad = True\n",
    "        list_o.requires_grad = True\n",
    "    except:\n",
    "        pass\n",
    "#         raise RuntimeError('Already requires_grad')\n",
    "#     print(list_i.shape, list_o.requires_grad)\n",
    "    print(list_i.shape, list_o.shape)\n",
    "    dudx = torch.autograd.grad(list_o, list_i, grad_outputs=torch.ones(list_o.shape), create_graph=True)\n",
    "    d2udx2 = torch.autograd.grad(dudx, list_i, grad_outputs=torch.ones(dudx[0].shape), create_graph=True)\n",
    "#     d3udx3 = torch.autograd.grad(d2udx2, list_i, grad_outputs=torch.ones(d2udx2[0].shape), retain_graph=True)\n",
    "    return dudx, d2udx2"
   ]
  },
  {
   "cell_type": "code",
   "execution_count": null,
   "id": "3e4c98ee",
   "metadata": {},
   "outputs": [],
   "source": [
    "# compute_derivatives(list_tens[0], out[0])"
   ]
  },
  {
   "cell_type": "code",
   "execution_count": null,
   "id": "61702016",
   "metadata": {},
   "outputs": [],
   "source": [
    "a, b = torch.cat(list_tens, dim=0), torch.cat(out, dim=0)\n",
    "print(a.shape, b.shape)\n",
    "c = torch.cat([a, b.view(-1, 1)], dim=-1)\n",
    "print(c.shape)\n",
    "gradients = vmap(compute_derivatives)(c)\n"
   ]
  },
  {
   "cell_type": "code",
   "execution_count": null,
   "id": "5aa48913",
   "metadata": {},
   "outputs": [],
   "source": [
    "torch.cat(list_tens, dim=0).shape"
   ]
  },
  {
   "cell_type": "code",
   "execution_count": null,
   "id": "4ccc5009",
   "metadata": {},
   "outputs": [],
   "source": [
    "list_tens"
   ]
  },
  {
   "cell_type": "code",
   "execution_count": null,
   "id": "73db5ab3",
   "metadata": {},
   "outputs": [],
   "source": []
  }
 ],
 "metadata": {
  "kernelspec": {
   "display_name": "ns_clevrer",
   "language": "python",
   "name": "ns_clevrer"
  },
  "language_info": {
   "codemirror_mode": {
    "name": "ipython",
    "version": 3
   },
   "file_extension": ".py",
   "mimetype": "text/x-python",
   "name": "python",
   "nbconvert_exporter": "python",
   "pygments_lexer": "ipython3",
   "version": "3.7.7"
  }
 },
 "nbformat": 4,
 "nbformat_minor": 5
}
