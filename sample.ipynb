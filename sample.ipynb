{
 "cells": [
  {
   "cell_type": "code",
   "execution_count": 66,
   "metadata": {},
   "outputs": [],
   "source": [
    "import h5py, os\n",
    "import numpy as np\n",
    "from tqdm import tqdm\n",
    "import matplotlib.pyplot as plt\n",
    "from scipy.interpolate import griddata"
   ]
  },
  {
   "cell_type": "code",
   "execution_count": 2,
   "metadata": {},
   "outputs": [],
   "source": [
    "hf = h5py.File('data/channel_x1_256_y1_512_z1_256_step2.h5', 'r')\n",
    "hf_pressure = h5py.File('data/channel_x1_256_y1_512_z1_256_step2_pressure.h5', 'r')"
   ]
  },
  {
   "cell_type": "code",
   "execution_count": 3,
   "metadata": {},
   "outputs": [],
   "source": [
    "vels = hf.get('Velocity_0001')\n",
    "xs = hf.get('xcoor')\n",
    "ys = hf.get('ycoor')\n",
    "zs = hf.get('zcoor')\n",
    "ps = hf_pressure.get('Pressure_0001')"
   ]
  },
  {
   "cell_type": "code",
   "execution_count": 4,
   "metadata": {},
   "outputs": [],
   "source": [
    "ys = ys[1:]\n",
    "vels = vels[:, 1:, :, :]\n",
    "ps = ps[:, 1:, ...]"
   ]
  },
  {
   "cell_type": "code",
   "execution_count": 5,
   "metadata": {},
   "outputs": [
    {
     "data": {
      "text/plain": [
       "((255,), (128, 255, 128, 1))"
      ]
     },
     "execution_count": 5,
     "metadata": {},
     "output_type": "execute_result"
    }
   ],
   "source": [
    "ys.shape, ps.shape"
   ]
  },
  {
   "cell_type": "code",
   "execution_count": 6,
   "metadata": {},
   "outputs": [],
   "source": [
    "us = vels[..., 0]\n",
    "vs = vels[..., 1]\n",
    "ws = vels[..., 2]"
   ]
  },
  {
   "cell_type": "code",
   "execution_count": 7,
   "metadata": {},
   "outputs": [],
   "source": [
    "# flatten the velocity as we\n",
    "us_flattened = us.flatten()"
   ]
  },
  {
   "cell_type": "code",
   "execution_count": 8,
   "metadata": {},
   "outputs": [],
   "source": [
    "# gather all the positions\n",
    "yv, xv, zv = np.meshgrid(ys, xs, zs) "
   ]
  },
  {
   "cell_type": "code",
   "execution_count": 9,
   "metadata": {},
   "outputs": [
    {
     "name": "stdout",
     "output_type": "stream",
     "text": [
      "(32640, 2)\n"
     ]
    }
   ],
   "source": [
    "# flatten a give slice of data\n",
    "slice_num = 0\n",
    "xv_flattened_2d = np.expand_dims(xv[:,:,slice_num].flatten(), axis=1)\n",
    "yv_flattened_2d = np.expand_dims(yv[:,:,slice_num].flatten(), axis=1)\n",
    "coords_flattened_2d = np.concatenate((yv_flattened_2d, xv_flattened_2d), axis=1)\n",
    "print(coords_flattened_2d.shape)"
   ]
  },
  {
   "cell_type": "code",
   "execution_count": 22,
   "metadata": {},
   "outputs": [
    {
     "data": {
      "text/plain": [
       "128"
      ]
     },
     "execution_count": 22,
     "metadata": {},
     "output_type": "execute_result"
    }
   ],
   "source": [
    "vs.shape[-1]"
   ]
  },
  {
   "cell_type": "code",
   "execution_count": 10,
   "metadata": {},
   "outputs": [],
   "source": [
    "us2d = us[:, :, slice_num]\n",
    "us2d_flattened = np.expand_dims(us2d.flatten(), axis=1)\n",
    "vs2d = vs[:, :, slice_num]\n",
    "vs2d_flattened = np.expand_dims(vs2d.flatten(), axis=1)\n",
    "ps2d = ps[:, :, slice_num]\n",
    "ps2d_flattened = np.expand_dims(ps2d.flatten(), axis=1)\n",
    "ws2d = ws[:, :, slice_num]\n",
    "ws2d_flattened = np.expand_dims(ws2d.flatten(), axis=1)"
   ]
  },
  {
   "cell_type": "code",
   "execution_count": 11,
   "metadata": {},
   "outputs": [],
   "source": [
    "# create a regular grid to map the dataset values to a 2D grid\n",
    "grid_x = np.linspace(xv.min(), xv.max(), 256)\n",
    "grid_y = np.linspace(yv.min(), yv.max(), 256)"
   ]
  },
  {
   "cell_type": "code",
   "execution_count": 12,
   "metadata": {},
   "outputs": [],
   "source": [
    "# get the positions at which we want to evaluate the flow value - flatten for griddata function\n",
    "yeval, xeval = np.meshgrid(grid_y, grid_x)\n",
    "xeval_flattened = np.expand_dims(xeval.flatten(), axis=1)\n",
    "yeval_flattened = np.expand_dims(yeval.flatten(), axis=1)"
   ]
  },
  {
   "cell_type": "code",
   "execution_count": 13,
   "metadata": {},
   "outputs": [],
   "source": [
    "# interpolate the values at the regular grid points\n",
    "us_interp = griddata(coords_flattened_2d, us2d_flattened, (yeval, xeval), method='linear', fill_value=0)\n",
    "vs_interp = griddata(coords_flattened_2d, vs2d_flattened, (yeval, xeval), method='linear', fill_value=0)\n",
    "ps_interp = griddata(coords_flattened_2d, ps2d_flattened, (yeval, xeval), method='linear', fill_value=0)\n",
    "# ws_interp = griddata(coords_flattened_2d, ws2d_flattened, (yeval, xeval), method='linear', fill_value=0)"
   ]
  },
  {
   "cell_type": "code",
   "execution_count": 14,
   "metadata": {},
   "outputs": [],
   "source": [
    "def interp_slice(slice_num = 0):\n",
    "    us2d = us[:, :, slice_num]\n",
    "    us2d_flattened = np.expand_dims(us2d.flatten(), axis=1)\n",
    "    vs2d = vs[:, :, slice_num]\n",
    "    vs2d_flattened = np.expand_dims(vs2d.flatten(), axis=1)\n",
    "    ps2d = ps[:, :, slice_num]\n",
    "    ps2d_flattened = np.expand_dims(ps2d.flatten(), axis=1)\n",
    "    us_interp = griddata(coords_flattened_2d, us2d_flattened, (yeval, xeval), method='linear', fill_value=0)\n",
    "    vs_interp = griddata(coords_flattened_2d, vs2d_flattened, (yeval, xeval), method='linear', fill_value=0)\n",
    "    ps_interp = griddata(coords_flattened_2d, ps2d_flattened, (yeval, xeval), method='linear', fill_value=0)\n",
    "    return us_interp, vs_interp, ps_interp"
   ]
  },
  {
   "cell_type": "code",
   "execution_count": 15,
   "metadata": {},
   "outputs": [],
   "source": [
    "xeval =  np.expand_dims(np.transpose(xeval, axes=(1, 0)), axis=-1)\n",
    "yeval =  np.expand_dims(np.transpose(yeval, axes=(1, 0)), axis=-1)\n",
    "us_interp =  np.transpose(us_interp, axes=(1, 0, 2))\n",
    "vs_interp =  np.transpose(vs_interp, axes=(1, 0, 2))\n",
    "ps_interp =  np.transpose(ps_interp, axes=(1, 0, 2))"
   ]
  },
  {
   "cell_type": "code",
   "execution_count": 16,
   "metadata": {},
   "outputs": [
    {
     "data": {
      "text/plain": [
       "(256, 256, 1)"
      ]
     },
     "execution_count": 16,
     "metadata": {},
     "output_type": "execute_result"
    }
   ],
   "source": [
    "us_interp.shape"
   ]
  },
  {
   "cell_type": "code",
   "execution_count": 148,
   "metadata": {},
   "outputs": [
    {
     "data": {
      "text/plain": [
       "<matplotlib.colorbar.Colorbar at 0x12a4d3460>"
      ]
     },
     "execution_count": 148,
     "metadata": {},
     "output_type": "execute_result"
    },
    {
     "data": {
      "image/png": "[encoded data removed]",
      "text/plain": [
       "<Figure size 288x288 with 2 Axes>"
      ]
     },
     "metadata": {
      "needs_background": "light"
     },
     "output_type": "display_data"
    }
   ],
   "source": [
    "plt.matshow(us_interp[..., 0])\n",
    "plt.colorbar()"
   ]
  },
  {
   "cell_type": "code",
   "execution_count": 146,
   "metadata": {},
   "outputs": [
    {
     "data": {
      "text/plain": [
       "(256, 256)"
      ]
     },
     "execution_count": 146,
     "metadata": {},
     "output_type": "execute_result"
    }
   ],
   "source": [
    "us_interp[..., 0].shape"
   ]
  },
  {
   "cell_type": "code",
   "execution_count": 147,
   "metadata": {},
   "outputs": [],
   "source": [
    "us_interp[:, :100, 0] = 10"
   ]
  },
  {
   "cell_type": "code",
   "execution_count": 26,
   "metadata": {},
   "outputs": [],
   "source": [
    "flow = np.concatenate((xeval, yeval, us_interp, vs_interp, ps_interp), axis=-1)"
   ]
  },
  {
   "cell_type": "code",
   "execution_count": 27,
   "metadata": {},
   "outputs": [],
   "source": [
    "flow_padded = np.zeros((300, 300, 5))\n",
    "flow_padded[22:-22, 22:-22, :] = flow"
   ]
  },
  {
   "cell_type": "code",
   "execution_count": 28,
   "metadata": {},
   "outputs": [
    {
     "data": {
      "text/plain": [
       "<matplotlib.colorbar.Colorbar at 0x103c437c0>"
      ]
     },
     "execution_count": 28,
     "metadata": {},
     "output_type": "execute_result"
    },
    {
     "data": {
      "image/png": "[encoded data removed]",
      "text/plain": [
       "<Figure size 288x288 with 2 Axes>"
      ]
     },
     "metadata": {
      "needs_background": "light"
     },
     "output_type": "display_data"
    }
   ],
   "source": [
    "plt.matshow(flow_padded[...,1])\n",
    "plt.colorbar()"
   ]
  },
  {
   "cell_type": "code",
   "execution_count": 24,
   "metadata": {},
   "outputs": [
    {
     "data": {
      "text/plain": [
       "256"
      ]
     },
     "execution_count": 24,
     "metadata": {},
     "output_type": "execute_result"
    }
   ],
   "source": []
  },
  {
   "cell_type": "code",
   "execution_count": 67,
   "metadata": {},
   "outputs": [],
   "source": [
    "class DatasetFromFlow():\n",
    "\n",
    "    def __init__(self, flow_filename, pressure_filename):\n",
    "        os.makedirs('data/' + flow_filename.split('/')[1].split('.')[0], exist_ok=True)\n",
    "        \n",
    "        hf = h5py.File(flow_filename, 'r')\n",
    "        hf_pressure = h5py.File(pressure_filename, 'r')\n",
    "\n",
    "        vels = hf.get('Velocity_0001')[:, 1:, :, :]\n",
    "        self.us = vels[..., 0]\n",
    "        self.vs = vels[..., 1]\n",
    "        self.xs = hf.get('xcoor')\n",
    "        self.ys = hf.get('ycoor')[1:]\n",
    "        self.zs = hf.get('zcoor')\n",
    "        self.ps = hf_pressure.get('Pressure_0001')[:, 1:, :, :]\n",
    "\n",
    "        # gather all the positions\n",
    "        yv, xv = np.meshgrid(ys, xs) \n",
    "        \n",
    "        # flatten a give slice of data\n",
    "        xv_flattened_2d = np.expand_dims(xv[:,:].flatten(), axis=1)\n",
    "        yv_flattened_2d = np.expand_dims(yv[:,:].flatten(), axis=1)\n",
    "        self.coords_flattened_2d = np.concatenate((yv_flattened_2d, xv_flattened_2d), axis=1)\n",
    "\n",
    "        # create a regular grid to map the dataset values to a 2D grid\n",
    "        self.grid_x = np.linspace(xv.min(), xv.max(), 256)\n",
    "        self.grid_y = np.linspace(yv.min(), yv.max(), 256)\n",
    "\n",
    "        # get the positions at which we want to evaluate the flow value - flatten for griddata function\n",
    "        self.yeval, self.xeval = np.meshgrid(self.grid_y, self.grid_x)\n",
    "        # self.xeval_flattened = np.expand_dims(xeval.flatten(), axis=1)\n",
    "        # self.yeval_flattened = np.expand_dims(yeval.flatten(), axis=1)\n",
    "\n",
    "    def get_slice(self, idx):\n",
    "        us2d_flattened = np.expand_dims(self.us[:, :, idx].flatten(), axis=1)\n",
    "        vs2d_flattened = np.expand_dims(self.vs[:, :, idx].flatten(), axis=1)\n",
    "        ps2d_flattened = np.expand_dims(self.ps[:, :, idx].flatten(), axis=1)\n",
    "\n",
    "        # interpolate the values at the regular grid points\n",
    "        us_interp = griddata(self.coords_flattened_2d, us2d_flattened, (self.yeval, self.xeval), method='linear', fill_value=0)\n",
    "        vs_interp = griddata(self.coords_flattened_2d, vs2d_flattened, (self.yeval, self.xeval), method='linear', fill_value=0)\n",
    "        ps_interp = griddata(self.coords_flattened_2d, ps2d_flattened, (self.yeval, self.xeval), method='linear', fill_value=0)\n",
    "\n",
    "        return us_interp, vs_interp, ps_interp\n",
    "\n",
    "    def prepare_data(self, idx):\n",
    "        us_interp, vs_interp, ps_interp =  self.get_slice(idx)\n",
    "        \n",
    "        xeval =  np.expand_dims(np.transpose(self.xeval, axes=(1, 0)), axis=-1)\n",
    "        yeval =  np.expand_dims(np.transpose(self.yeval, axes=(1, 0)), axis=-1)\n",
    "        us_interp =  np.transpose(us_interp, axes=(1, 0, 2))\n",
    "        vs_interp =  np.transpose(vs_interp, axes=(1, 0, 2))\n",
    "        ps_interp =  np.transpose(ps_interp, axes=(1, 0, 2))\n",
    "\n",
    "        '''self.xeval = np.concatenate()...'''\n",
    "        '''self.yeval = np.concatenate()...'''\n",
    "        '''self.us_interp = np.concatenate()...'''\n",
    "        '''self.vs_interp = np.concatenate()...'''\n",
    "        '''self.ps_interp = np.concatenate()...'''\n",
    "\n",
    "        return xeval, yeval, us_interp, vs_interp, ps_interp\n",
    "\n",
    "    def create_dataset(self):\n",
    "\n",
    "        all_xs = np.zeros((self.us.shape[-1], len(self.grid_x), len(self.grid_y)))\n",
    "        all_ys = np.zeros((self.us.shape[-1], len(self.grid_x), len(self.grid_y)))\n",
    "        all_us = np.zeros((self.us.shape[-1], len(self.grid_x), len(self.grid_y)))\n",
    "        all_vs = np.zeros((self.us.shape[-1], len(self.grid_x), len(self.grid_y)))\n",
    "        all_ps = np.zeros((self.us.shape[-1], len(self.grid_x), len(self.grid_y)))\n",
    "\n",
    "        for i in tqdm(range(len(all_xs))):\n",
    "            xeval, yeval, us_interp, vs_interp, ps_interp = self.prepare_data(i)\n",
    "            all_xs[i] = xeval[..., 0]\n",
    "            all_ys[i] = yeval[..., 0]\n",
    "            all_us[i] = us_interp[..., 0]\n",
    "            all_vs[i] = vs_interp[..., 0]\n",
    "            all_ps[i] = ps_interp[..., 0]\n",
    "\n",
    "        np.save('data/channel_x1_256_y1_512_z1_256_step2/xs.npy', all_xs)\n",
    "        np.save('data/channel_x1_256_y1_512_z1_256_step2/ys.npy', all_ys)\n",
    "        np.save('data/channel_x1_256_y1_512_z1_256_step2/us.npy', all_us)\n",
    "        np.save('data/channel_x1_256_y1_512_z1_256_step2/vs.npy', all_vs)\n",
    "        np.save('data/channel_x1_256_y1_512_z1_256_step2/ps.npy', all_ps)\n",
    "\n",
    "        return all_xs, all_ys, all_us, all_vs, all_ps\n",
    "        \n"
   ]
  },
  {
   "cell_type": "code",
   "execution_count": 68,
   "metadata": {},
   "outputs": [],
   "source": [
    "D = DatasetFromFlow('data/channel_x1_256_y1_512_z1_256_step2.h5', 'data/channel_x1_256_y1_512_z1_256_step2_pressure.h5')"
   ]
  },
  {
   "cell_type": "code",
   "execution_count": 69,
   "metadata": {},
   "outputs": [
    {
     "name": "stderr",
     "output_type": "stream",
     "text": [
      "100%|██████████| 128/128 [03:28<00:00,  1.63s/it]\n"
     ]
    }
   ],
   "source": [
    "all_xs, all_ys, all_us, all_vs, all_ps = D.create_dataset()"
   ]
  },
  {
   "cell_type": "code",
   "execution_count": 99,
   "metadata": {},
   "outputs": [
    {
     "data": {
      "text/plain": [
       "<matplotlib.colorbar.Colorbar at 0x1290ef370>"
      ]
     },
     "execution_count": 99,
     "metadata": {},
     "output_type": "execute_result"
    },
    {
     "data": {
      "image/png": "[encoded data removed]",
      "text/plain": [
       "<Figure size 288x288 with 2 Axes>"
      ]
     },
     "metadata": {
      "needs_background": "light"
     },
     "output_type": "display_data"
    }
   ],
   "source": [
    "plt.matshow(all_vs[1])\n",
    "plt.colorbar()"
   ]
  },
  {
   "cell_type": "code",
   "execution_count": 29,
   "metadata": {},
   "outputs": [],
   "source": [
    "# xv, yv, zv = np.meshgrid(xs, ys, zs) #, indexing=\"xy\")\n",
    "# gather all the positions\n",
    "# yv, xv, zv = np.meshgrid(ys, xs, zs) \n",
    "# flatten and concatenate the coordinates for future use\n",
    "# xv_flattened = np.expand_dims(xv.flatten(), axis=1)\n",
    "# yv_flattened = np.expand_dims(yv.flatten(), axis=1)\n",
    "# zv_flattened = np.expand_dims(zv.flatten(), axis=1)\n",
    "# coords_flattened = np.concatenate((yv_flattened, xv_flattened, zv_flattened), axis=1)\n",
    "# print(coords_flattened.shape)"
   ]
  },
  {
   "cell_type": "code",
   "execution_count": 149,
   "metadata": {},
   "outputs": [
    {
     "data": {
      "text/plain": [
       "<matplotlib.colorbar.Colorbar at 0x12a628e80>"
      ]
     },
     "execution_count": 149,
     "metadata": {},
     "output_type": "execute_result"
    },
    {
     "data": {
      "image/png": "[encoded data removed]",
      "text/plain": [
       "<Figure size 288x288 with 2 Axes>"
      ]
     },
     "metadata": {
      "needs_background": "light"
     },
     "output_type": "display_data"
    }
   ],
   "source": [
    "r = np.load('recon12.npy')\n",
    "plt.matshow(r)\n",
    "plt.colorbar()"
   ]
  },
  {
   "cell_type": "code",
   "execution_count": null,
   "metadata": {},
   "outputs": [],
   "source": []
  }
 ],
 "metadata": {
  "kernelspec": {
   "display_name": "Python 3.9.7 64-bit ('3.9.7')",
   "language": "python",
   "name": "python3"
  },
  "language_info": {
   "codemirror_mode": {
    "name": "ipython",
    "version": 3
   },
   "file_extension": ".py",
   "mimetype": "text/x-python",
   "name": "python",
   "nbconvert_exporter": "python",
   "pygments_lexer": "ipython3",
   "version": "3.9.7"
  },
  "orig_nbformat": 4,
  "vscode": {
   "interpreter": {
    "hash": "cc99516081da5f0fa2e25eb64409361896b1dbdaea98904a47dda2227a1d4410"
   }
  }
 },
 "nbformat": 4,
 "nbformat_minor": 2
}
