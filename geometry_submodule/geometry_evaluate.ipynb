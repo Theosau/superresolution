{
 "cells": [
  {
   "cell_type": "code",
   "execution_count": 1,
   "id": "66dace44-156a-4e1d-bbdc-4f58201f46fb",
   "metadata": {},
   "outputs": [
    {
     "data": {
      "text/plain": [
       "'\\xa0notebook to work on the geometry encoding of the image\\nwill have to create a basic geometry encoder based on the signed distance field \\nSo what is the idea? do we start from a signed distance field? or do we start from the segmentation and have \\na 2 stage process?\\n'"
      ]
     },
     "execution_count": 1,
     "metadata": {},
     "output_type": "execute_result"
    }
   ],
   "source": [
    "''' notebook to work on the geometry encoding of the image\n",
    "will have to create a basic geometry encoder based on the signed distance field \n",
    "So what is the idea? do we start from a signed distance field? or do we start from the segmentation and have \n",
    "a 2 stage process?\n",
    "'''"
   ]
  },
  {
   "cell_type": "code",
   "execution_count": 2,
   "id": "69480422-b529-4672-8dd8-01f78899e8f1",
   "metadata": {},
   "outputs": [],
   "source": [
    "%load_ext autoreload"
   ]
  },
  {
   "cell_type": "code",
   "execution_count": 3,
   "id": "a8260c2f-86c5-4766-800a-dd6f2f7fad6a",
   "metadata": {},
   "outputs": [],
   "source": [
    "%autoreload 2"
   ]
  },
  {
   "cell_type": "code",
   "execution_count": 4,
   "id": "06a1ed28-4281-448e-8b62-c08c26212718",
   "metadata": {},
   "outputs": [],
   "source": [
    "import os, yaml, torch\n",
    "from torch.nn import MSELoss, L1Loss\n",
    "from torch.utils.data import DataLoader\n",
    "curdir = os.getcwd()\n",
    "os.chdir('..')\n",
    "from data.data_generation import generate_dataset, generate_pipe_flow_dataset, generate_3dstenosis, generate_3daneurysm\n",
    "os.chdir(curdir)"
   ]
  },
  {
   "cell_type": "code",
   "execution_count": 5,
   "id": "7765dca2-ceb0-4c4a-a2c4-bb92abbaea68",
   "metadata": {},
   "outputs": [],
   "source": [
    "import numpy as np\n",
    "from tqdm.notebook import tqdm\n",
    "import matplotlib.pyplot as plt\n",
    "from scipy.ndimage import distance_transform_edt"
   ]
  },
  {
   "cell_type": "code",
   "execution_count": 6,
   "id": "c0f7b8dc-7600-45b5-9492-3ca0bf674521",
   "metadata": {},
   "outputs": [
    {
     "name": "stdout",
     "output_type": "stream",
     "text": [
      "/notebooks/superresolution\n"
     ]
    }
   ],
   "source": [
    "from train_geometry_submodule import PoseuilleFlowSDF"
   ]
  },
  {
   "cell_type": "code",
   "execution_count": 7,
   "id": "847dc1ff-07a6-4199-bdbb-f478fdb648af",
   "metadata": {},
   "outputs": [],
   "source": [
    "model_name = '3daneurysm_3dstenosis_099_transforms_aug1_latent60_newmaps_sparsity50'\n",
    "# loading the model config\n",
    "with open(f\"geometry_trainings/geometry_config_models/{model_name}.yml\") as file:\n",
    "    config = yaml.safe_load(file)"
   ]
  },
  {
   "cell_type": "code",
   "execution_count": 8,
   "id": "8bf0b99b-7c95-4cac-90b0-4d090201928a",
   "metadata": {},
   "outputs": [],
   "source": [
    "import importlib\n",
    "specific_model = importlib.import_module(f'geometry_trainings.geometry_models.{model_name}')\n",
    "ConvNet = specific_model.ConvNet"
   ]
  },
  {
   "cell_type": "code",
   "execution_count": 9,
   "id": "19549f18-bcb0-42bc-836d-80567cb974b9",
   "metadata": {},
   "outputs": [
    {
     "name": "stdout",
     "output_type": "stream",
     "text": [
      "cuda\n"
     ]
    }
   ],
   "source": [
    "# setting device and data types\n",
    "dtype = torch.float32\n",
    "device = torch.device(\"cuda\" if torch.cuda.is_available() else \"cpu\") #torch.device(\"cpu\")\n",
    "print(device)"
   ]
  },
  {
   "cell_type": "code",
   "execution_count": 10,
   "id": "a969c93c-1805-43b1-ac4c-3e33b0aeb9ac",
   "metadata": {},
   "outputs": [
    {
     "data": {
      "application/vnd.jupyter.widget-view+json": {
       "model_id": "a3c88dc27a9b4de19dfa15ca0d155978",
       "version_major": 2,
       "version_minor": 0
      },
      "text/plain": [
       "  0%|          | 0/20 [00:00<?, ?it/s]"
      ]
     },
     "metadata": {},
     "output_type": "display_data"
    },
    {
     "name": "stdout",
     "output_type": "stream",
     "text": [
      "Normalizing samples.\n",
      "Creating segmentation maps.\n",
      "Adding edges.\n",
      "Created edges.\n",
      "Add edges on the side.\n",
      "Generating sfds.\n"
     ]
    },
    {
     "name": "stderr",
     "output_type": "stream",
     "text": [
      "100%|██████████| 20/20 [00:00<00:00, 32.25it/s]\n"
     ]
    },
    {
     "data": {
      "application/vnd.jupyter.widget-view+json": {
       "model_id": "0323ab6a16c04c3a861b4dafd5996f71",
       "version_major": 2,
       "version_minor": 0
      },
      "text/plain": [
       "  0%|          | 0/20 [00:00<?, ?it/s]"
      ]
     },
     "metadata": {},
     "output_type": "display_data"
    },
    {
     "name": "stdout",
     "output_type": "stream",
     "text": [
      "Normalizing samples.\n",
      "Creating segmentation maps.\n",
      "Adding edges.\n",
      "Created edges.\n",
      "Add edges on the side.\n",
      "Generating sfds.\n"
     ]
    },
    {
     "name": "stderr",
     "output_type": "stream",
     "text": [
      "100%|██████████| 20/20 [00:00<00:00, 31.42it/s]\n"
     ]
    }
   ],
   "source": [
    "# volume size\n",
    "nvox = config[\"nvox\"]\n",
    "epoch_sparsity = config[\"epoch_sparsity\"]\n",
    "target_sparsity = config[\"target_sparsity\"]\n",
    "\n",
    "# datasets\n",
    "gen_stenosis = config[\"gen_stenosis\"]\n",
    "gen_aneurysm = config[\"gen_aneurysm\"]\n",
    "assert gen_stenosis or gen_aneurysm, 'You should at least generate stenosis flows or aneurysm flows.'\n",
    "\n",
    "# augmentation\n",
    "transforms = config[\"transforms\"]\n",
    "data_aug = config[\"data_aug\"]\n",
    "\n",
    "if gen_stenosis:\n",
    "    _, _, _, sdfs, _ = generate_3dstenosis(\n",
    "        nvox=64, \n",
    "        sdf=True,\n",
    "        transforms=transforms,\n",
    "        data_aug=data_aug,\n",
    "        mode=\"eval\"\n",
    "    )\n",
    "\n",
    "if gen_aneurysm:\n",
    "    _, _, _, sdfs_aneurysm, _ = generate_3daneurysm(\n",
    "        nvox=64, \n",
    "        sdf=True,\n",
    "        transforms=transforms,\n",
    "        data_aug=data_aug,\n",
    "        mode=\"eval\"\n",
    "    )\n",
    "\n",
    "if gen_stenosis and gen_aneurysm:\n",
    "    # concatenate sdfs all together\n",
    "    sdfs = np.concatenate((sdfs, sdfs_aneurysm), axis=0)\n",
    "    del sdfs_aneurysm\n",
    "# just pipe flows\n",
    "elif gen_aneurysm:\n",
    "    sdfs = sdfs_aneurysm"
   ]
  },
  {
   "cell_type": "code",
   "execution_count": 11,
   "id": "07241918-3680-4e48-8604-53b834adcbec",
   "metadata": {},
   "outputs": [],
   "source": [
    "# # flows, segmentation_maps, _, sdfs, velocity_scale_for_norm = generate_3dstenosis(nvox=nvox)\n",
    "# # generate stenosis\n",
    "# flows, segmentation_maps, _, sdfs, _ = generate_3daneurysm(\n",
    "#     nvox=64, \n",
    "#     sdf=True, \n",
    "#     transforms=True, \n",
    "#     data_aug=1, \n",
    "#     mode=\"train\"\n",
    "# )"
   ]
  },
  {
   "cell_type": "code",
   "execution_count": 12,
   "id": "8491f320-314b-4abf-9aeb-8c4f03e0a49f",
   "metadata": {},
   "outputs": [],
   "source": [
    "sdfs_min = np.min(sdfs, axis=(-1, -2, -3, -4, -5), keepdims=True)\n",
    "sdfs_max = np.max(sdfs, axis=(-1, -2, -3, -4, -5), keepdims=True)\n",
    "\n",
    "# normalize the sdfs\n",
    "sdfs = (sdfs - sdfs_min)/(sdfs_max - sdfs_min)"
   ]
  },
  {
   "cell_type": "code",
   "execution_count": 13,
   "id": "4f918da0-bdac-4185-953a-fb1b1ef0f6ed",
   "metadata": {},
   "outputs": [
    {
     "data": {
      "text/plain": [
       "<matplotlib.colorbar.Colorbar at 0x7f7bb160f700>"
      ]
     },
     "execution_count": 13,
     "metadata": {},
     "output_type": "execute_result"
    },
    {
     "data": {
      "image/png": "[encoded data removed]",
      "text/plain": [
       "<Figure size 432x288 with 2 Axes>"
      ]
     },
     "metadata": {
      "needs_background": "light"
     },
     "output_type": "display_data"
    }
   ],
   "source": [
    "plt.imshow(sdfs[4, 0, :, :, 30])\n",
    "plt.colorbar()"
   ]
  },
  {
   "cell_type": "code",
   "execution_count": 14,
   "id": "ad4c05f2-001c-47ba-b10b-dacd8a118f3d",
   "metadata": {},
   "outputs": [],
   "source": [
    "test_dataset = PoseuilleFlowSDF(sdfs)"
   ]
  },
  {
   "cell_type": "code",
   "execution_count": 15,
   "id": "a87d1c6a-f8b9-469a-a9e2-c0681fc7987b",
   "metadata": {},
   "outputs": [],
   "source": [
    "# dataloaders\n",
    "batch_size = config[\"batch_size\"]\n",
    "test_dataloader = DataLoader(test_dataset, batch_size=batch_size, shuffle=False)"
   ]
  },
  {
   "cell_type": "code",
   "execution_count": 16,
   "id": "5e2fe1ba-54ec-4734-99e1-bcde4b4031c5",
   "metadata": {},
   "outputs": [],
   "source": [
    "# setup models\n",
    "model = ConvNet(\n",
    "    input_size=nvox, \n",
    "    channels_in=sdfs.shape[1], \n",
    "    channels_init=config[\"channels_init\"],\n",
    "    channels_out=config[\"channels_out\"],\n",
    "    latent_space_size=config[\"latent_space_size\"],\n",
    ")"
   ]
  },
  {
   "cell_type": "code",
   "execution_count": 17,
   "id": "9b42a543-4632-43d6-b6bc-f7c94b8dc1f0",
   "metadata": {},
   "outputs": [],
   "source": [
    "checkpoint = torch.load(f\"geometry_trainings/geometry_saved_models/{model_name}\", map_location=torch.device(\"cpu\"))\n",
    "model.load_state_dict(checkpoint[\"model_state_dict\"])\n",
    "model = model.to(device=device)\n",
    "model.eval()\n",
    "# set up losses\n",
    "loss_function_mae = L1Loss()\n",
    "loss_function_mse = MSELoss()"
   ]
  },
  {
   "cell_type": "code",
   "execution_count": 18,
   "id": "e098d8c0-e74f-4ebd-86da-2abc7b10a2d5",
   "metadata": {},
   "outputs": [
    {
     "data": {
      "application/vnd.jupyter.widget-view+json": {
       "model_id": "15ed091dfe3d40fabc5689eed7144647",
       "version_major": 2,
       "version_minor": 0
      },
      "text/plain": [
       "0it [00:00, ?it/s]"
      ]
     },
     "metadata": {},
     "output_type": "display_data"
    },
    {
     "name": "stdout",
     "output_type": "stream",
     "text": [
      "mae: 8.35e-03, mse: 1.17e-04\n"
     ]
    }
   ],
   "source": [
    "epoch_total_loss_mae = 0\n",
    "epoch_total_loss_mse = 0\n",
    "reconstructions = np.zeros_like(sdfs)\n",
    "with torch.no_grad():\n",
    "    counter = 0\n",
    "    \n",
    "    for i, sdf_batch in tqdm(enumerate(test_dataloader)):\n",
    "        sdf_batch = sdf_batch.to(device=device, dtype=dtype) # move to device, e.g. GPU\n",
    "        # =====================forward======================\n",
    "        # compute latent vectors\n",
    "        reconstruction = model(sdf_batch)\n",
    "        loss_mae = loss_function_mae(reconstruction, sdf_batch)\n",
    "        loss_mse = loss_function_mse(reconstruction, sdf_batch)\n",
    "        \n",
    "        reconstructions[counter:counter+len(sdf_batch), ...] = reconstruction.detach().cpu().numpy()\n",
    "        counter += len(sdf_batch)\n",
    "        \n",
    "        # update write iteration loss\n",
    "        epoch_total_loss_mae += (loss_mae.item()*len(sdf_batch))\n",
    "        epoch_total_loss_mse += (loss_mse.item()*len(sdf_batch))\n",
    "print(f\"mae: {epoch_total_loss_mae/(len(test_dataset)):.2e}, mse: {epoch_total_loss_mse/(len(test_dataset)):.2e}\")"
   ]
  },
  {
   "cell_type": "code",
   "execution_count": 22,
   "id": "57f04f42-7494-4620-b0ad-e6650ac492ca",
   "metadata": {},
   "outputs": [
    {
     "data": {
      "image/png": "[encoded data removed]",
      "text/plain": [
       "<Figure size 1080x720 with 4 Axes>"
      ]
     },
     "metadata": {
      "needs_background": "light"
     },
     "output_type": "display_data"
    }
   ],
   "source": [
    "i = 28\n",
    "fig, ax = plt.subplots(nrows=1, ncols=3, figsize=(15, 10))\n",
    "im1 = ax[0].imshow(sdfs[i, 0, ..., 30])\n",
    "ax[0].set_title('Original')\n",
    "im2 = ax[1].imshow(reconstructions[i, 0, ..., 30])\n",
    "ax[1].set_title('Reconstruction')\n",
    "im3 = ax[2].imshow(np.abs(sdfs[i, 0, ..., 30] - reconstructions[i, 0, ..., 30]))\n",
    "ax[2].set_title('Error')\n",
    "\n",
    "# add a colorbar to the right of the plot\n",
    "cbar_ax = fig.add_axes([0.92, 0.3, 0.02, 0.4]) # [left, bottom, width, height]\n",
    "cbar = plt.colorbar(im2, cax=cbar_ax)\n",
    "\n",
    "plt.show()"
   ]
  },
  {
   "cell_type": "code",
   "execution_count": 23,
   "id": "9713e00b-4a6b-44ff-bf02-ffc563b88644",
   "metadata": {},
   "outputs": [
    {
     "data": {
      "text/plain": [
       "Text(0.5, 1.0, 'Reconstruction')"
      ]
     },
     "execution_count": 23,
     "metadata": {},
     "output_type": "execute_result"
    },
    {
     "data": {
      "image/png": "[encoded data removed]",
      "text/plain": [
       "<Figure size 1080x360 with 2 Axes>"
      ]
     },
     "metadata": {
      "needs_background": "light"
     },
     "output_type": "display_data"
    }
   ],
   "source": [
    "fig, ax = plt.subplots(nrows=1, ncols=2, figsize=(15, 5))\n",
    "im1 = ax[0].hist(sdfs.flatten(), bins=10, range=(0,1))\n",
    "ax[0].set_title('Original')\n",
    "im2 = ax[1].hist(reconstructions.flatten(), bins=10, range=(0,1))\n",
    "ax[1].set_title('Reconstruction')"
   ]
  },
  {
   "cell_type": "code",
   "execution_count": 48,
   "id": "973ecfe5-0563-4f22-9d5c-0e0097b50726",
   "metadata": {},
   "outputs": [],
   "source": [
    "# will look into different losses\n",
    "# l1, l2, the one I read on with the angles\n",
    "# cosine loss --> alignment of the vector at each point"
   ]
  },
  {
   "cell_type": "code",
   "execution_count": null,
   "id": "059e7b0b-119b-4052-a4a9-f18f484d1f4e",
   "metadata": {},
   "outputs": [],
   "source": []
  }
 ],
 "metadata": {
  "kernelspec": {
   "display_name": "Python 3 (ipykernel)",
   "language": "python",
   "name": "python3"
  },
  "language_info": {
   "codemirror_mode": {
    "name": "ipython",
    "version": 3
   },
   "file_extension": ".py",
   "mimetype": "text/x-python",
   "name": "python",
   "nbconvert_exporter": "python",
   "pygments_lexer": "ipython3",
   "version": "3.9.13"
  }
 },
 "nbformat": 4,
 "nbformat_minor": 5
}
